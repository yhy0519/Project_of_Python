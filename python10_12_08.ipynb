{
  "nbformat": 4,
  "nbformat_minor": 0,
  "metadata": {
    "colab": {
      "name": "python10_12_08.ipynb",
      "provenance": [],
      "collapsed_sections": [],
      "mount_file_id": "1RkAyX6GUU3U-dUFrtzN943Tk-_zSmjXD",
      "authorship_tag": "ABX9TyPdwo7wpQWHpqhrZcMUaEmb",
      "include_colab_link": true
    },
    "kernelspec": {
      "name": "python3",
      "display_name": "Python 3"
    }
  },
  "cells": [
    {
      "cell_type": "markdown",
      "metadata": {
        "id": "view-in-github",
        "colab_type": "text"
      },
      "source": [
        "<a href=\"https://colab.research.google.com/github/yhy0519/Project_of_Python/blob/main/python10_12_08.ipynb\" target=\"_parent\"><img src=\"https://colab.research.google.com/assets/colab-badge.svg\" alt=\"Open In Colab\"/></a>"
      ]
    },
    {
      "cell_type": "markdown",
      "metadata": {
        "id": "Dz459YlxZTmv"
      },
      "source": [
        "**■ 75. 문자열에서 특정 위치의 문자 얻기**\r\n",
        "\r\n",
        "문자열에서 특정 위치의 문자를 얻는 방법은 인덱싱을 이용하는 것입니다.  \r\n",
        "인덱스는 0 부터 시작합니다. 파이썬 인덱스는 음수도 가능합니다.\r\n",
        "\r\n",
        "예제:"
      ]
    },
    {
      "cell_type": "code",
      "metadata": {
        "colab": {
          "base_uri": "https://localhost:8080/"
        },
        "id": "BEH5IaPaZMgz",
        "outputId": "ef4c4994-7c4f-4523-9b74-8dbf82940e06"
      },
      "source": [
        "print( 'scott'[0] )\r\n",
        "print( 'scott'[2] )\r\n",
        "\r\n",
        "a = 'scott'   # a 라는 문자형 변수를 생성하면서 scott 을 a 라는 빈컵에 담았다.\r\n",
        "print( a[0] )   # s\r\n",
        "print( a[2] )   # o"
      ],
      "execution_count": null,
      "outputs": [
        {
          "output_type": "stream",
          "text": [
            "s\n",
            "o\n",
            "s\n",
            "o\n"
          ],
          "name": "stdout"
        }
      ]
    },
    {
      "cell_type": "markdown",
      "metadata": {
        "id": "21uivQm7ZoFQ"
      },
      "source": [
        ""
      ]
    },
    {
      "cell_type": "markdown",
      "metadata": {
        "id": "Lvk69kUvZv2A"
      },
      "source": [
        ""
      ]
    },
    {
      "cell_type": "markdown",
      "metadata": {
        "id": "4nkT979-Zy-l"
      },
      "source": [
        "문제253. 아래의 txt 변수에서 w 를 출력하시오 !\r\n",
        "\r\n",
        "txt = 'A tale than was not right'"
      ]
    },
    {
      "cell_type": "code",
      "metadata": {
        "colab": {
          "base_uri": "https://localhost:8080/"
        },
        "id": "KW62DRKeZ0HL",
        "outputId": "5e28742f-bc2c-4d0d-c76a-d00b0c728429"
      },
      "source": [
        "txt = 'A tale than was not right'\r\n",
        "\r\n",
        "print( txt[12] )   # 공백도 자리수에 포함"
      ],
      "execution_count": null,
      "outputs": [
        {
          "output_type": "stream",
          "text": [
            "w\n"
          ],
          "name": "stdout"
        }
      ]
    },
    {
      "cell_type": "markdown",
      "metadata": {
        "id": "-KKWt99iaCOu"
      },
      "source": [
        ""
      ]
    },
    {
      "cell_type": "markdown",
      "metadata": {
        "id": "UuoWXnyoaCBF"
      },
      "source": [
        ""
      ]
    },
    {
      "cell_type": "markdown",
      "metadata": {
        "id": "sIeVc2z4aBym"
      },
      "source": [
        "문제254. 위의 txt 변수에서 맨끝의 철자인 t 를 출력하시오 !"
      ]
    },
    {
      "cell_type": "code",
      "metadata": {
        "colab": {
          "base_uri": "https://localhost:8080/"
        },
        "id": "vopuvvaCaFc8",
        "outputId": "76c01627-463b-45e7-b9a9-29e6d5dac932"
      },
      "source": [
        "txt = 'A tale than was not right'\r\n",
        "\r\n",
        "print( txt[-1] )"
      ],
      "execution_count": null,
      "outputs": [
        {
          "output_type": "stream",
          "text": [
            "t\n"
          ],
          "name": "stdout"
        }
      ]
    },
    {
      "cell_type": "markdown",
      "metadata": {
        "id": "2rxP2Pv2aL-Q"
      },
      "source": [
        ""
      ]
    },
    {
      "cell_type": "markdown",
      "metadata": {
        "id": "fk_r3fI_aLx5"
      },
      "source": [
        ""
      ]
    },
    {
      "cell_type": "markdown",
      "metadata": {
        "id": "0NzMLWAFaLok"
      },
      "source": [
        "문제255. emp2.csv 에서 이름만 출력하시오 ! (Pandas 를 이용하지 말고 emp2.csv 파일에 직접 읽어들여서 출력하시오 !)\r\n"
      ]
    },
    {
      "cell_type": "code",
      "metadata": {
        "colab": {
          "base_uri": "https://localhost:8080/"
        },
        "id": "8Xo2_xHAaPCs",
        "outputId": "ae01701d-790c-4ca3-e985-fdf7188b2476"
      },
      "source": [
        "import csv\r\n",
        "\r\n",
        "file = open('/content/drive/MyDrive/data/emp2.csv')\r\n",
        "emp_csv = csv.reader(file)\r\n",
        "\r\n",
        "for emp_list in emp_csv:\r\n",
        "    print( emp_list[1] )"
      ],
      "execution_count": null,
      "outputs": [
        {
          "output_type": "stream",
          "text": [
            "KING\n",
            "BLAKE\n",
            "CLARK\n",
            "JONES\n",
            "MARTIN\n",
            "ALLEN\n",
            "TURNER\n",
            "JAMES\n",
            "WARD\n",
            "FORD\n",
            "SMITH\n",
            "SCOTT\n",
            "ADAMS\n",
            "MILLER\n"
          ],
          "name": "stdout"
        }
      ]
    },
    {
      "cell_type": "markdown",
      "metadata": {
        "id": "jRheySbYanpG"
      },
      "source": [
        ""
      ]
    },
    {
      "cell_type": "markdown",
      "metadata": {
        "id": "utH4KsfganeK"
      },
      "source": [
        ""
      ]
    },
    {
      "cell_type": "markdown",
      "metadata": {
        "id": "3PoQZnCbanTq"
      },
      "source": [
        "문제256. 위의 출력된 이름의 데이터 유형이 무엇인지 확인하시오 !"
      ]
    },
    {
      "cell_type": "code",
      "metadata": {
        "colab": {
          "base_uri": "https://localhost:8080/"
        },
        "id": "VebmafoZaskk",
        "outputId": "a3d96bcf-2565-4c4e-aa34-555765accf19"
      },
      "source": [
        "import csv\r\n",
        "\r\n",
        "file = open('/content/drive/MyDrive/data/emp2.csv')\r\n",
        "emp_csv = csv.reader(file)\r\n",
        "\r\n",
        "for emp_list in emp_csv:\r\n",
        "    print( type(emp_list[1]) )"
      ],
      "execution_count": null,
      "outputs": [
        {
          "output_type": "stream",
          "text": [
            "<class 'str'>\n",
            "<class 'str'>\n",
            "<class 'str'>\n",
            "<class 'str'>\n",
            "<class 'str'>\n",
            "<class 'str'>\n",
            "<class 'str'>\n",
            "<class 'str'>\n",
            "<class 'str'>\n",
            "<class 'str'>\n",
            "<class 'str'>\n",
            "<class 'str'>\n",
            "<class 'str'>\n",
            "<class 'str'>\n"
          ],
          "name": "stdout"
        }
      ]
    },
    {
      "cell_type": "markdown",
      "metadata": {
        "id": "tZZ5AOS8az9U"
      },
      "source": [
        ""
      ]
    },
    {
      "cell_type": "markdown",
      "metadata": {
        "id": "Oie_zUNgazw3"
      },
      "source": [
        ""
      ]
    },
    {
      "cell_type": "markdown",
      "metadata": {
        "id": "b9zIGtVpazQV"
      },
      "source": [
        "문제257. 문제255번을 다시 수행해서 emp2.csv 에서 이름을 출력하는데 이름의 첫번째 철자만 출력하시오 !"
      ]
    },
    {
      "cell_type": "code",
      "metadata": {
        "colab": {
          "base_uri": "https://localhost:8080/"
        },
        "id": "HY9N-ymHa7K6",
        "outputId": "32892c4e-6e04-4e1a-edb6-765f73fb924e"
      },
      "source": [
        "import csv\r\n",
        "\r\n",
        "file = open('/content/drive/MyDrive/data/emp2.csv')\r\n",
        "emp_csv = csv.reader(file)\r\n",
        "\r\n",
        "for emp_list in emp_csv:\r\n",
        "    print( emp_list[1][0] )"
      ],
      "execution_count": null,
      "outputs": [
        {
          "output_type": "stream",
          "text": [
            "K\n",
            "B\n",
            "C\n",
            "J\n",
            "M\n",
            "A\n",
            "T\n",
            "J\n",
            "W\n",
            "F\n",
            "S\n",
            "S\n",
            "A\n",
            "M\n"
          ],
          "name": "stdout"
        }
      ]
    },
    {
      "cell_type": "markdown",
      "metadata": {
        "id": "Us-CDZF0bkEo"
      },
      "source": [
        ""
      ]
    },
    {
      "cell_type": "markdown",
      "metadata": {
        "id": "mIk27Xu6bj2D"
      },
      "source": [
        ""
      ]
    },
    {
      "cell_type": "markdown",
      "metadata": {
        "id": "EYzMXdEIbjj-"
      },
      "source": [
        "문제258. 위의 결과를 다시 출력하는데 첫번째 철자가 소문자로 출력되게하시오 !"
      ]
    },
    {
      "cell_type": "code",
      "metadata": {
        "colab": {
          "base_uri": "https://localhost:8080/"
        },
        "id": "LfI586hRboZn",
        "outputId": "2064db3e-dee0-4472-a2fd-04152cace1dd"
      },
      "source": [
        "import csv\r\n",
        "\r\n",
        "file = open('/content/drive/MyDrive/data/emp2.csv')\r\n",
        "emp_csv = csv.reader(file)\r\n",
        "\r\n",
        "for emp_list in emp_csv:\r\n",
        "    print( emp_list[1][0].lower() )"
      ],
      "execution_count": null,
      "outputs": [
        {
          "output_type": "stream",
          "text": [
            "k\n",
            "b\n",
            "c\n",
            "j\n",
            "m\n",
            "a\n",
            "t\n",
            "j\n",
            "w\n",
            "f\n",
            "s\n",
            "s\n",
            "a\n",
            "m\n"
          ],
          "name": "stdout"
        }
      ]
    },
    {
      "cell_type": "markdown",
      "metadata": {
        "id": "JbBTX1VqbnuU"
      },
      "source": [
        ""
      ]
    },
    {
      "cell_type": "markdown",
      "metadata": {
        "id": "c7DHSoIGbtHX"
      },
      "source": [
        ""
      ]
    },
    {
      "cell_type": "markdown",
      "metadata": {
        "id": "cPNxDP2Ubs0b"
      },
      "source": [
        "**■ 76. 문자열에서 지정한 구간의 문자열 얻기(슬라이싱)**\r\n",
        "\r\n",
        "문자열에서 특정 구간에 있는 문자열을 얻으려면 슬라이싱을 이용하면 됩니다.\r\n",
        "\r\n",
        "예제:"
      ]
    },
    {
      "cell_type": "code",
      "metadata": {
        "colab": {
          "base_uri": "https://localhost:8080/"
        },
        "id": "WuwT9GRGbzdK",
        "outputId": "239a85a3-bb2b-4ca5-fda6-3ef6a44ad3be"
      },
      "source": [
        "print( 'scott'[0:2] )   # 0 부터 2 미만\r\n",
        "\r\n",
        "a = 'scott'\r\n",
        "print( a[0:2] )   \r\n",
        "print( a[3:] )    # 3 부터 문자 끝까지 출력\r\n",
        "print( a[:3] )    # 문자 처음부터 3 미만 까지"
      ],
      "execution_count": null,
      "outputs": [
        {
          "output_type": "stream",
          "text": [
            "sc\n",
            "sc\n",
            "tt\n",
            "sco\n"
          ],
          "name": "stdout"
        }
      ]
    },
    {
      "cell_type": "markdown",
      "metadata": {
        "id": "DELM8U6EcEWW"
      },
      "source": [
        ""
      ]
    },
    {
      "cell_type": "markdown",
      "metadata": {
        "id": "uEOsUkW6cEJm"
      },
      "source": [
        ""
      ]
    },
    {
      "cell_type": "markdown",
      "metadata": {
        "id": "PWJgJj4LcD8H"
      },
      "source": [
        "문제259. 아래의 SQL 을 파이썬으로 구현하시오 ! (Pandas 이용하지말고 그냥 emp2.csv 를 읽어서 구현)\r\n",
        "\r\n",
        "SQL>\r\n",
        "\r\n",
        "    select ename, substr( ename, 1, 3 )\r\n",
        "       from emp;\r\n",
        "\r\n",
        "파이썬>"
      ]
    },
    {
      "cell_type": "code",
      "metadata": {
        "colab": {
          "base_uri": "https://localhost:8080/"
        },
        "id": "tnI682NScDkN",
        "outputId": "85b0749c-dbcc-4085-eef9-d6b725ef143e"
      },
      "source": [
        "import csv\r\n",
        "\r\n",
        "file = open('/content/drive/MyDrive/data/emp2.csv')\r\n",
        "emp_csv = csv.reader(file)\r\n",
        "\r\n",
        "for emp_list in emp_csv:\r\n",
        "    print( emp_list[1], emp_list[1][0:3] )"
      ],
      "execution_count": null,
      "outputs": [
        {
          "output_type": "stream",
          "text": [
            "KING KIN\n",
            "BLAKE BLA\n",
            "CLARK CLA\n",
            "JONES JON\n",
            "MARTIN MAR\n",
            "ALLEN ALL\n",
            "TURNER TUR\n",
            "JAMES JAM\n",
            "WARD WAR\n",
            "FORD FOR\n",
            "SMITH SMI\n",
            "SCOTT SCO\n",
            "ADAMS ADA\n",
            "MILLER MIL\n"
          ],
          "name": "stdout"
        }
      ]
    },
    {
      "cell_type": "markdown",
      "metadata": {
        "id": "4_Uf0mQxewQK"
      },
      "source": [
        ""
      ]
    },
    {
      "cell_type": "markdown",
      "metadata": {
        "id": "SY5NPOwxewDA"
      },
      "source": [
        ""
      ]
    },
    {
      "cell_type": "markdown",
      "metadata": {
        "id": "KdOjmqwmev2a"
      },
      "source": [
        "**■ 77. 문자열에서 홀수 번째 문자만 추출하기**\r\n",
        "\r\n",
        "주어진 문자열에서 홀수 번째 문자만 추출하는 방법은 슬라이싱의 스텝을 이용하면 됩니다.\r\n",
        "\r\n",
        "예제:"
      ]
    },
    {
      "cell_type": "code",
      "metadata": {
        "colab": {
          "base_uri": "https://localhost:8080/"
        },
        "id": "yKTcVsX2e5kj",
        "outputId": "cf96521c-d5ec-4d90-d157-4b077a8ac5f2"
      },
      "source": [
        "txt = 'aAbBcCdDeEfFgGhHiIjJkK'\r\n",
        "result = txt[0:]           # 0 번째 부터 문자 끝까지 출력 (print(txt[:]) 도 가능)\r\n",
        "print(result)\r\n",
        "result2 = txt[0: :2]       # 문자열에서 2칸씩 건너 뛰면서 출력\r\n",
        "print(result2)"
      ],
      "execution_count": null,
      "outputs": [
        {
          "output_type": "stream",
          "text": [
            "aAbBcCdDeEfFgGhHiIjJkK\n",
            "abcdefghijk\n"
          ],
          "name": "stdout"
        }
      ]
    },
    {
      "cell_type": "markdown",
      "metadata": {
        "id": "6CIzUNeGfIOv"
      },
      "source": [
        ""
      ]
    },
    {
      "cell_type": "markdown",
      "metadata": {
        "id": "ewWGizrLfIFU"
      },
      "source": [
        ""
      ]
    },
    {
      "cell_type": "markdown",
      "metadata": {
        "id": "K64wSIgDfH3s"
      },
      "source": [
        "문제260. 위의 txt 문자열에서 짝수번째 철자들만 출력하시오 !"
      ]
    },
    {
      "cell_type": "code",
      "metadata": {
        "colab": {
          "base_uri": "https://localhost:8080/"
        },
        "id": "9xA5KIjmfJMg",
        "outputId": "a758cbd1-cc08-49a3-deab-88725635bf03"
      },
      "source": [
        "txt = 'aAbBcCdDeEfFgGhHiIjJkK'\r\n",
        "result3 = txt[1: :2]\r\n",
        "print(result3)"
      ],
      "execution_count": null,
      "outputs": [
        {
          "output_type": "stream",
          "text": [
            "ABCDEFGHIJK\n"
          ],
          "name": "stdout"
        }
      ]
    },
    {
      "cell_type": "markdown",
      "metadata": {
        "id": "TiqSKIlYfXl7"
      },
      "source": [
        ""
      ]
    },
    {
      "cell_type": "markdown",
      "metadata": {
        "id": "BSX9aoWIfXdV"
      },
      "source": [
        ""
      ]
    },
    {
      "cell_type": "markdown",
      "metadata": {
        "id": "1eKJczH6fXSe"
      },
      "source": [
        "**■ 78. 문자열을 거꾸로 만들기**\r\n",
        "\r\n",
        "슬라이싱을 이용하면 매우 간단하게 거꾸로된 문자열을 얻을 수 있습니다.\r\n",
        "문자열 txt 를 처음부터 끝까지 스텝 -1 로 슬라이싱 하면됩니다.\r\n",
        "\r\n",
        "예제:"
      ]
    },
    {
      "cell_type": "code",
      "metadata": {
        "colab": {
          "base_uri": "https://localhost:8080/"
        },
        "id": "Ea4Pb07Lfcqj",
        "outputId": "d99f262b-9be0-4684-ed3e-bbb8d0b4950f"
      },
      "source": [
        "txt = 'aAbBcCdDeEfFgGhHiIjJkK'\r\n",
        "print(txt[ : ])           # 문자열 전체 다 출력\r\n",
        "print(txt[ : : ])         # 문자열 전체 다 출력\r\n",
        "print(txt[ : :1])         # 문자열 전체가 다 출력되는데 처음부터 끝까지 1 스텝으로 읽는다.\r\n",
        "result = txt[ : :-1]      # 문자열 전체를 뒤에 철자부터 앞으로 -1 스텝씩 읽는다.\r\n",
        "print(result)"
      ],
      "execution_count": null,
      "outputs": [
        {
          "output_type": "stream",
          "text": [
            "aAbBcCdDeEfFgGhHiIjJkK\n",
            "aAbBcCdDeEfFgGhHiIjJkK\n",
            "aAbBcCdDeEfFgGhHiIjJkK\n",
            "KkJjIiHhGgFfEeDdCcBbAa\n"
          ],
          "name": "stdout"
        }
      ]
    },
    {
      "cell_type": "markdown",
      "metadata": {
        "id": "RDAlaITKfo0x"
      },
      "source": [
        ""
      ]
    },
    {
      "cell_type": "markdown",
      "metadata": {
        "id": "dE7l4mOvfopm"
      },
      "source": [
        ""
      ]
    },
    {
      "cell_type": "markdown",
      "metadata": {
        "id": "OGfGngGtfohK"
      },
      "source": [
        "문제261. 이름을 출력하는데 이름의 철자를 거꾸로 출력하시오 ! (파이썬으로만. emp2.csv 를 이용)"
      ]
    },
    {
      "cell_type": "code",
      "metadata": {
        "colab": {
          "base_uri": "https://localhost:8080/"
        },
        "id": "TwS3UgKNfqXH",
        "outputId": "bc6894d6-c74b-4916-f4e1-c221dc8017ec"
      },
      "source": [
        "import csv\r\n",
        "\r\n",
        "file = open('/content/drive/MyDrive/data/emp2.csv')\r\n",
        "emp_csv = csv.reader(file)\r\n",
        "\r\n",
        "for emp_list in emp_csv:\r\n",
        "    print( emp_list[1][ : :-1] )"
      ],
      "execution_count": null,
      "outputs": [
        {
          "output_type": "stream",
          "text": [
            "GNIK\n",
            "EKALB\n",
            "KRALC\n",
            "SENOJ\n",
            "NITRAM\n",
            "NELLA\n",
            "RENRUT\n",
            "SEMAJ\n",
            "DRAW\n",
            "DROF\n",
            "HTIMS\n",
            "TTOCS\n",
            "SMADA\n",
            "RELLIM\n"
          ],
          "name": "stdout"
        }
      ]
    },
    {
      "cell_type": "markdown",
      "metadata": {
        "id": "NnjWHMphf9IU"
      },
      "source": [
        ""
      ]
    },
    {
      "cell_type": "markdown",
      "metadata": {
        "id": "sTLD37Dlf9AN"
      },
      "source": [
        ""
      ]
    },
    {
      "cell_type": "markdown",
      "metadata": {
        "id": "QYhdY_DDf802"
      },
      "source": [
        "**■ 79. 두 개의 문자열 합치기(+)**\r\n",
        "\r\n",
        "두개의 문자열을 합치는 방법은 매우 간단합니다.  \r\n",
        "문자열1 + 문자열2 + 문자열3 으로 + 연산자를 이용하면 됩니다.\r\n",
        "\r\n",
        "예제:"
      ]
    },
    {
      "cell_type": "code",
      "metadata": {
        "colab": {
          "base_uri": "https://localhost:8080/"
        },
        "id": "A_lmjS_TgAki",
        "outputId": "65d0f326-9cb0-4a29-8a49-cf57e05d44ab"
      },
      "source": [
        "a = 'scott'\r\n",
        "b = 'king'\r\n",
        "print(a+b)"
      ],
      "execution_count": null,
      "outputs": [
        {
          "output_type": "stream",
          "text": [
            "scottking\n"
          ],
          "name": "stdout"
        }
      ]
    },
    {
      "cell_type": "markdown",
      "metadata": {
        "id": "3LTVa0LggEGq"
      },
      "source": [
        ""
      ]
    },
    {
      "cell_type": "markdown",
      "metadata": {
        "id": "4eqEQA2cgD_M"
      },
      "source": [
        ""
      ]
    },
    {
      "cell_type": "markdown",
      "metadata": {
        "id": "e9x6GFOTgD23"
      },
      "source": [
        "문제262. 아래의 SQL 을 파이썬으로 구현하시오 ! (emp2.csv 를 이용하시오)\r\n",
        "\r\n",
        "SQL>\r\n",
        "\r\n",
        "    select  ename || job\r\n",
        "       from  emp;\r\n",
        "\r\n",
        "파이썬>"
      ]
    },
    {
      "cell_type": "code",
      "metadata": {
        "colab": {
          "base_uri": "https://localhost:8080/"
        },
        "id": "oJ5VRAWYgHrw",
        "outputId": "54daf960-9e54-42ae-ff3a-e5675a7f0c29"
      },
      "source": [
        "import csv\r\n",
        "\r\n",
        "file = open('/content/drive/MyDrive/data/emp2.csv')\r\n",
        "emp_csv = csv.reader(file)\r\n",
        "\r\n",
        "for emp_list in emp_csv:\r\n",
        "    print( emp_list[1] + emp_list[2] )"
      ],
      "execution_count": null,
      "outputs": [
        {
          "output_type": "stream",
          "text": [
            "KINGPRESIDENT\n",
            "BLAKEMANAGER\n",
            "CLARKMANAGER\n",
            "JONESMANAGER\n",
            "MARTINSALESMAN\n",
            "ALLENSALESMAN\n",
            "TURNERSALESMAN\n",
            "JAMESCLERK\n",
            "WARDSALESMAN\n",
            "FORDANALYST\n",
            "SMITHCLERK\n",
            "SCOTTANALYST\n",
            "ADAMSCLERK\n",
            "MILLERCLERK\n"
          ],
          "name": "stdout"
        }
      ]
    },
    {
      "cell_type": "markdown",
      "metadata": {
        "id": "NHA68iI4gwlb"
      },
      "source": [
        ""
      ]
    },
    {
      "cell_type": "markdown",
      "metadata": {
        "id": "NWamgRuGgwdB"
      },
      "source": [
        ""
      ]
    },
    {
      "cell_type": "markdown",
      "metadata": {
        "id": "Ew2pUTSwgwUR"
      },
      "source": [
        "문제263. 아래와 같이 결과가 출력되게 하시오!\r\n",
        "\r\n",
        "SQL>\r\n",
        "\r\n",
        "    select ename || '의 직업은' || job || '입니다.'\r\n",
        "       from emp;\r\n",
        "\r\n",
        "파이썬>"
      ]
    },
    {
      "cell_type": "code",
      "metadata": {
        "colab": {
          "base_uri": "https://localhost:8080/"
        },
        "id": "mgOKGm0wg1QD",
        "outputId": "f2d964b2-1511-4551-bc7b-567aaf418362"
      },
      "source": [
        "import csv\r\n",
        "\r\n",
        "file = open('/content/drive/MyDrive/data/emp2.csv')\r\n",
        "emp_csv = csv.reader(file)\r\n",
        "\r\n",
        "for emp_list in emp_csv:\r\n",
        "    print( emp_list[1] + '의 직업은 ' + emp_list[2] + ' 입니다.' )"
      ],
      "execution_count": null,
      "outputs": [
        {
          "output_type": "stream",
          "text": [
            "KING의 직업은 PRESIDENT 입니다.\n",
            "BLAKE의 직업은 MANAGER 입니다.\n",
            "CLARK의 직업은 MANAGER 입니다.\n",
            "JONES의 직업은 MANAGER 입니다.\n",
            "MARTIN의 직업은 SALESMAN 입니다.\n",
            "ALLEN의 직업은 SALESMAN 입니다.\n",
            "TURNER의 직업은 SALESMAN 입니다.\n",
            "JAMES의 직업은 CLERK 입니다.\n",
            "WARD의 직업은 SALESMAN 입니다.\n",
            "FORD의 직업은 ANALYST 입니다.\n",
            "SMITH의 직업은 CLERK 입니다.\n",
            "SCOTT의 직업은 ANALYST 입니다.\n",
            "ADAMS의 직업은 CLERK 입니다.\n",
            "MILLER의 직업은 CLERK 입니다.\n"
          ],
          "name": "stdout"
        }
      ]
    },
    {
      "cell_type": "markdown",
      "metadata": {
        "id": "gYRV2DI2sByc"
      },
      "source": [
        ""
      ]
    },
    {
      "cell_type": "markdown",
      "metadata": {
        "id": "8ut_c4zKsBqe"
      },
      "source": [
        ""
      ]
    },
    {
      "cell_type": "markdown",
      "metadata": {
        "id": "TM9ORAmssBiR"
      },
      "source": [
        "**■ 80. 문자열을 반복해서 새로운 문자열로 만들기(*)**\r\n",
        "\r\n",
        "예제:"
      ]
    },
    {
      "cell_type": "code",
      "metadata": {
        "colab": {
          "base_uri": "https://localhost:8080/"
        },
        "id": "WJFR3Py9sIec",
        "outputId": "1ae07c0d-84b4-47fc-c1ac-f716c6efabc4"
      },
      "source": [
        "print('★' * 10) \r\n",
        "print('여러분 ~' * 10)"
      ],
      "execution_count": null,
      "outputs": [
        {
          "output_type": "stream",
          "text": [
            "★★★★★★★★★★\n",
            "여러분 ~여러분 ~여러분 ~여러분 ~여러분 ~여러분 ~여러분 ~여러분 ~여러분 ~여러분 ~\n"
          ],
          "name": "stdout"
        }
      ]
    },
    {
      "cell_type": "markdown",
      "metadata": {
        "id": "x6ai6ytJsZPU"
      },
      "source": [
        ""
      ]
    },
    {
      "cell_type": "markdown",
      "metadata": {
        "id": "jDNkBCB7sZHj"
      },
      "source": [
        ""
      ]
    },
    {
      "cell_type": "markdown",
      "metadata": {
        "id": "9i4jdpuisY_s"
      },
      "source": [
        "문제264. for loop 문을 이용해서 숫자 1부터 5까지 출력하시오 !"
      ]
    },
    {
      "cell_type": "code",
      "metadata": {
        "colab": {
          "base_uri": "https://localhost:8080/"
        },
        "id": "3sdb6MSvsbME",
        "outputId": "5b1bf8e6-f39a-4d3e-d833-84f1d74a46f0"
      },
      "source": [
        "for i in range(1,6):\r\n",
        "    print(i)"
      ],
      "execution_count": null,
      "outputs": [
        {
          "output_type": "stream",
          "text": [
            "1\n",
            "2\n",
            "3\n",
            "4\n",
            "5\n"
          ],
          "name": "stdout"
        }
      ]
    },
    {
      "cell_type": "markdown",
      "metadata": {
        "id": "B8fyjIOYsgwc"
      },
      "source": [
        ""
      ]
    },
    {
      "cell_type": "markdown",
      "metadata": {
        "id": "lW4FfA9Isgmt"
      },
      "source": [
        ""
      ]
    },
    {
      "cell_type": "markdown",
      "metadata": {
        "id": "YUEHkn-dsg4Q"
      },
      "source": [
        "문제265. 숫자를 물어보게 하고 숫자를 입력하면 해당 숫자까지 숫자가 출력되게하시오 !\r\n",
        "\r\n",
        "    숫자를 입력하세요 ~ 5\r\n",
        "    1\r\n",
        "    2\r\n",
        "    3\r\n",
        "    4\r\n",
        "    5"
      ]
    },
    {
      "cell_type": "code",
      "metadata": {
        "colab": {
          "base_uri": "https://localhost:8080/"
        },
        "id": "BKaqxreEsnzV",
        "outputId": "27b88274-9e26-4d6e-e9e3-ef21a60215f4"
      },
      "source": [
        "num = int( input('숫자를 입력하세요 ~ ') )\r\n",
        "for i in range(1, num+1):\r\n",
        "    print(i)"
      ],
      "execution_count": null,
      "outputs": [
        {
          "output_type": "stream",
          "text": [
            "숫자를 입력하세요 ~ 5\n",
            "1\n",
            "2\n",
            "3\n",
            "4\n",
            "5\n"
          ],
          "name": "stdout"
        }
      ]
    },
    {
      "cell_type": "markdown",
      "metadata": {
        "id": "jdoOlFTGsyZI"
      },
      "source": [
        ""
      ]
    },
    {
      "cell_type": "markdown",
      "metadata": {
        "id": "Mzrba1MWsySU"
      },
      "source": [
        ""
      ]
    },
    {
      "cell_type": "markdown",
      "metadata": {
        "id": "VD938BNCsyKN"
      },
      "source": [
        "문제266. 위의 코드를 수정해서 숫자를 물어보게하고 아래와 같이 ★ 이 출력되게하시오!\r\n",
        "\r\n",
        "    숫자를 입력하세요 ~ 5\r\n",
        "    ★\r\n",
        "    ★★\r\n",
        "    ★★★\r\n",
        "    ★★★★\r\n",
        "    ★★★★★"
      ]
    },
    {
      "cell_type": "code",
      "metadata": {
        "colab": {
          "base_uri": "https://localhost:8080/"
        },
        "id": "7lQJ8XHVs2Ag",
        "outputId": "af00c862-0256-476d-b898-33e7a8fed530"
      },
      "source": [
        "num = int( input('숫자를 입력하세요 ~ ') )\r\n",
        "for i in range(1, num+1):\r\n",
        "    print(i * '★')"
      ],
      "execution_count": null,
      "outputs": [
        {
          "output_type": "stream",
          "text": [
            "숫자를 입력하세요 ~ 5\n",
            "★\n",
            "★★\n",
            "★★★\n",
            "★★★★\n",
            "★★★★★\n"
          ],
          "name": "stdout"
        }
      ]
    },
    {
      "cell_type": "markdown",
      "metadata": {
        "id": "rnp-T1Pis94e"
      },
      "source": [
        ""
      ]
    },
    {
      "cell_type": "markdown",
      "metadata": {
        "id": "9sl2N95Is9vn"
      },
      "source": [
        ""
      ]
    },
    {
      "cell_type": "markdown",
      "metadata": {
        "id": "9-OS86-ws9UY"
      },
      "source": [
        "문제267. 아래와 같이 사각형이 출력되게하시오 ! \r\n",
        "\r\n",
        "    가로의 숫자를 입력하세요 ~ 3\r\n",
        "    세로의 숫자를 입력하세요 ~ 5\r\n",
        "    ★★★\r\n",
        "    ★★★\r\n",
        "    ★★★\r\n",
        "    ★★★\r\n",
        "    ★★★"
      ]
    },
    {
      "cell_type": "code",
      "metadata": {
        "id": "S9Qjo3j_tEyb",
        "colab": {
          "base_uri": "https://localhost:8080/"
        },
        "outputId": "69d747d4-006f-4284-c53f-ac969454949d"
      },
      "source": [
        "num1 = int( input('가로의 숫자를 입력하세요 ~ ') )\r\n",
        "num2 = int( input('세로의 숫자를 입력하세요 ~ ') )\r\n",
        "\r\n",
        "for i in range(1, num2+1):\r\n",
        "    print(num1 * '★')"
      ],
      "execution_count": 1,
      "outputs": [
        {
          "output_type": "stream",
          "text": [
            "가로의 숫자를 입력하세요 ~ 3\n",
            "세로의 숫자를 입력하세요 ~ 5\n",
            "★★★\n",
            "★★★\n",
            "★★★\n",
            "★★★\n",
            "★★★\n"
          ],
          "name": "stdout"
        }
      ]
    },
    {
      "cell_type": "markdown",
      "metadata": {
        "id": "WOVkd50zNtZ8"
      },
      "source": [
        ""
      ]
    },
    {
      "cell_type": "markdown",
      "metadata": {
        "id": "svvxds_QNtSj"
      },
      "source": [
        ""
      ]
    },
    {
      "cell_type": "markdown",
      "metadata": {
        "id": "cJW9CcMhNtLC"
      },
      "source": [
        "**■ 81. 문자열에서 특정 문자가 있는지 확인하기(in)**\r\n",
        "\r\n",
        "문자열에서 특정 문자가 있는지 없는지 확인하려면 in 키워드를 이용합니다.\r\n",
        "\r\n",
        "예제:"
      ]
    },
    {
      "cell_type": "code",
      "metadata": {
        "colab": {
          "base_uri": "https://localhost:8080/"
        },
        "id": "y6yEjishNwiP",
        "outputId": "23a821c6-9cb2-4431-d11a-e633c67c6f2d"
      },
      "source": [
        "txt = 'abcdefghijklmnopqr'\r\n",
        "\r\n",
        "if 'b' in txt:\r\n",
        "    print('존재합니다.')\r\n",
        "else:\r\n",
        "    print('존재하지 않습니다.')"
      ],
      "execution_count": 2,
      "outputs": [
        {
          "output_type": "stream",
          "text": [
            "존재합니다.\n"
          ],
          "name": "stdout"
        }
      ]
    },
    {
      "cell_type": "markdown",
      "metadata": {
        "id": "sZVLygWyN9m5"
      },
      "source": [
        ""
      ]
    },
    {
      "cell_type": "markdown",
      "metadata": {
        "id": "E9R87kF2N9fJ"
      },
      "source": [
        ""
      ]
    },
    {
      "cell_type": "markdown",
      "metadata": {
        "id": "Mt9oFNd4N9W5"
      },
      "source": [
        "문제268. emp2.csv 에서 이름을 출력하는데 이름을 S 를 포함하고 있는 사원들의 이름을 출력하시오!\r\n",
        "\r\n",
        "SQL>\r\n",
        "\r\n",
        "    select ename\r\n",
        "       from emp\r\n",
        "       where ename like '%S%';\r\n",
        "\r\n",
        "파이썬>"
      ]
    },
    {
      "cell_type": "code",
      "metadata": {
        "colab": {
          "base_uri": "https://localhost:8080/"
        },
        "id": "MSa6dmQMOBu7",
        "outputId": "af1b365c-0a9b-44cf-d830-2aab30c58e07"
      },
      "source": [
        "import csv\r\n",
        "\r\n",
        "file = open('/content/drive/MyDrive/data/emp2.csv')\r\n",
        "emp_csv = csv.reader(file)\r\n",
        "\r\n",
        "for emp_list in emp_csv:\r\n",
        "    if 'S' in emp_list[1]:\r\n",
        "        print(emp_list[1])"
      ],
      "execution_count": 3,
      "outputs": [
        {
          "output_type": "stream",
          "text": [
            "JONES\n",
            "JAMES\n",
            "SMITH\n",
            "SCOTT\n",
            "ADAMS\n"
          ],
          "name": "stdout"
        }
      ]
    },
    {
      "cell_type": "markdown",
      "metadata": {
        "id": "i8q6zNLjOdST"
      },
      "source": [
        ""
      ]
    },
    {
      "cell_type": "markdown",
      "metadata": {
        "id": "lyqyZ8CaOdK9"
      },
      "source": [
        ""
      ]
    },
    {
      "cell_type": "markdown",
      "metadata": {
        "id": "KXKHbbsfOdDa"
      },
      "source": [
        "문제269. 문제 268번 코드를 수정해서 출력하는데 이름의 S 자가 포함된 사원의 이름이 몇명인지 출력하시오!\r\n"
      ]
    },
    {
      "cell_type": "code",
      "metadata": {
        "colab": {
          "base_uri": "https://localhost:8080/"
        },
        "id": "26D8PaswOew4",
        "outputId": "f1156dc2-5df3-464d-bd46-474ad9c0de31"
      },
      "source": [
        "import csv\r\n",
        "\r\n",
        "file = open('/content/drive/MyDrive/data/emp2.csv')\r\n",
        "emp_csv = csv.reader(file)\r\n",
        "cnt = 0\r\n",
        "\r\n",
        "for emp_list in emp_csv:\r\n",
        "    if 'S' in emp_list[1]:\r\n",
        "        cnt += 1    # 이름에 'S' 자가 있으면 cnt 1 증가\r\n",
        "\r\n",
        "print(cnt)"
      ],
      "execution_count": 4,
      "outputs": [
        {
          "output_type": "stream",
          "text": [
            "5\n"
          ],
          "name": "stdout"
        }
      ]
    },
    {
      "cell_type": "markdown",
      "metadata": {
        "id": "brpP_lh0OrAJ"
      },
      "source": [
        ""
      ]
    },
    {
      "cell_type": "markdown",
      "metadata": {
        "id": "l6aU7qEWOq5D"
      },
      "source": [
        ""
      ]
    },
    {
      "cell_type": "markdown",
      "metadata": {
        "id": "2x_QsLgIOqyy"
      },
      "source": [
        "**■ 82. 문자열에서 특정 문자열이 있는지 확인하기(in)**\r\n",
        "\r\n",
        "보험회사에서 보험 상담원분들이 상담하실때의 상담 내용중에 부절절한 용어가\r\n",
        "있는지 없는지를 확인하여 금융감독원에 보고를 해야하는데 이 확인 작업을 사람이 하려면\r\n",
        "많은 인력과 시간이 드니까 파이썬으로 쉽게 할 수 있도록 프로그래밍할 때 문자열에서\r\n",
        "문자열이 있는지 확인하는 코드를 작성하면 됩니다.\r\n",
        "\r\n",
        "\r\n"
      ]
    },
    {
      "cell_type": "markdown",
      "metadata": {
        "id": "yNvbqP4cP0TR"
      },
      "source": [
        ""
      ]
    },
    {
      "cell_type": "markdown",
      "metadata": {
        "id": "nN3DqynhP41Q"
      },
      "source": [
        ""
      ]
    },
    {
      "cell_type": "markdown",
      "metadata": {
        "id": "tO7J3-9SP0qw"
      },
      "source": [
        "예제1. 겨울왕국 스크립트에서 elsa 라는 단어(문자열)가 몇 번 나오는지 카운트 해봅니다.\r\n",
        "\t(winter.txt)\r\n"
      ]
    },
    {
      "cell_type": "code",
      "metadata": {
        "id": "qgdIltkAOwpn"
      },
      "source": [
        "winter = open('/content/drive/MyDrive/data/winter.txt', encoding = 'cp949')\r\n",
        "print(winter)       # <_io.TextIOWrapper name='/content/drive/MyDrive/data/winter.txt' mode='r' encoding='cp949'>\r\n",
        "\r\n",
        "for i in winter:\r\n",
        "    print(i)"
      ],
      "execution_count": null,
      "outputs": []
    },
    {
      "cell_type": "markdown",
      "metadata": {
        "id": "CxwrZ4GJP2fp"
      },
      "source": [
        ""
      ]
    },
    {
      "cell_type": "markdown",
      "metadata": {
        "id": "PBM8g0ixP2XR"
      },
      "source": [
        ""
      ]
    },
    {
      "cell_type": "markdown",
      "metadata": {
        "id": "uoF51bucP4Vp"
      },
      "source": [
        "예제2. 출력되는 겨울왕국 스크립트를 전부 소문자로 출력하시오 !"
      ]
    },
    {
      "cell_type": "code",
      "metadata": {
        "id": "kY3KRmONP5h_"
      },
      "source": [
        "winter = open('/content/drive/MyDrive/data/winter.txt', encoding = 'cp949')\r\n",
        "print(winter)       # <_io.TextIOWrapper name='/content/drive/MyDrive/data/winter.txt' mode='r' encoding='cp949'>\r\n",
        "\r\n",
        "for i in winter:\r\n",
        "    print(i.lower())"
      ],
      "execution_count": null,
      "outputs": []
    },
    {
      "cell_type": "markdown",
      "metadata": {
        "id": "0z_n8Hn5P97k"
      },
      "source": [
        ""
      ]
    },
    {
      "cell_type": "markdown",
      "metadata": {
        "id": "wPqKxDmmP9zS"
      },
      "source": [
        ""
      ]
    },
    {
      "cell_type": "markdown",
      "metadata": {
        "id": "SbGhKAiCP9qI"
      },
      "source": [
        "예제3. 위에서 소문자로 출력된 스크립트 한 행을 하나 가져와서 아래와 같이 실행하면 뭐가 나올까?"
      ]
    },
    {
      "cell_type": "code",
      "metadata": {
        "colab": {
          "base_uri": "https://localhost:8080/"
        },
        "id": "1v02FhOjQBOd",
        "outputId": "928cde73-47b6-4f98-88a2-a7d3b6cec5a1"
      },
      "source": [
        "if 'elsa' in 'olaf skates and helps elsa coach anna.': \r\n",
        "    print('존재합니다')\r\n",
        "else:\r\n",
        "    print('존재하지 않습니다.')"
      ],
      "execution_count": 12,
      "outputs": [
        {
          "output_type": "stream",
          "text": [
            "존재합니다\n"
          ],
          "name": "stdout"
        }
      ]
    },
    {
      "cell_type": "markdown",
      "metadata": {
        "id": "-VOr_beOQD64"
      },
      "source": [
        ""
      ]
    },
    {
      "cell_type": "markdown",
      "metadata": {
        "id": "_Mc3pO4dQDxJ"
      },
      "source": [
        ""
      ]
    },
    {
      "cell_type": "markdown",
      "metadata": {
        "id": "AaJ8HTYtQDpL"
      },
      "source": [
        "예제4. 겨울왕국 스크립트에 elsa 가 몇번 나오는지 카운트 하시오!"
      ]
    },
    {
      "cell_type": "code",
      "metadata": {
        "colab": {
          "base_uri": "https://localhost:8080/"
        },
        "id": "GvmmjCxWQFRs",
        "outputId": "8f407601-6ce8-44e8-87b7-e658318bf928"
      },
      "source": [
        "winter = open('/content/drive/MyDrive/data/winter.txt', encoding = 'cp949')\r\n",
        "cnt = 0\r\n",
        "\r\n",
        "for i in winter:\r\n",
        "    if 'elsa' in i.lower(): \r\n",
        "        cnt += 1\r\n",
        "\r\n",
        "print(cnt)"
      ],
      "execution_count": 14,
      "outputs": [
        {
          "output_type": "stream",
          "text": [
            "318\n"
          ],
          "name": "stdout"
        }
      ]
    },
    {
      "cell_type": "markdown",
      "metadata": {
        "id": "N3NkytRfQX5W"
      },
      "source": [
        "설명: 위의 코드는 한 행에 elsa 가 두번 나와도 cnt 는 1개만 카운트 됩니다.  \r\n",
        "정확하게 하려면 위의 문자열에 elsa 가 2개가 나오니까 cnt 가 2개가 되어야합니다.\r\n"
      ]
    },
    {
      "cell_type": "markdown",
      "metadata": {
        "id": "UdKV4MZzQZrG"
      },
      "source": [
        ""
      ]
    },
    {
      "cell_type": "markdown",
      "metadata": {
        "id": "jg5L_UWUQaAx"
      },
      "source": [
        ""
      ]
    },
    {
      "cell_type": "markdown",
      "metadata": {
        "id": "5u0xFUvbQaSw"
      },
      "source": [
        "예제5. winter.txt 를 한 행씩 읽어서 어절 단위로 출력되게하시오!"
      ]
    },
    {
      "cell_type": "code",
      "metadata": {
        "id": "d6LWsLNFQjO4"
      },
      "source": [
        "winter = open('/content/drive/MyDrive/data/winter.txt', encoding = 'cp949')\r\n",
        "winter2 = winter.read().split(' ')\r\n",
        "\r\n",
        "for i in winter2:\r\n",
        "    print(i)"
      ],
      "execution_count": null,
      "outputs": []
    },
    {
      "cell_type": "markdown",
      "metadata": {
        "id": "IILVOUzTQiA9"
      },
      "source": [
        ""
      ]
    },
    {
      "cell_type": "markdown",
      "metadata": {
        "id": "6JEZGsTmQt-J"
      },
      "source": [
        ""
      ]
    },
    {
      "cell_type": "markdown",
      "metadata": {
        "id": "dNx7Yc26Qt00"
      },
      "source": [
        "예제6. 위의 어절들이 소문자로 출력되게하시오!"
      ]
    },
    {
      "cell_type": "code",
      "metadata": {
        "id": "_XozwCKjQv8w"
      },
      "source": [
        "winter = open('/content/drive/MyDrive/data/winter.txt', encoding = 'cp949')\r\n",
        "winter2 = winter.read().split(' ')\r\n",
        "\r\n",
        "for i in winter2:\r\n",
        "    print(i.lower())"
      ],
      "execution_count": null,
      "outputs": []
    },
    {
      "cell_type": "markdown",
      "metadata": {
        "id": "zXWZ2m3xQzES"
      },
      "source": [
        ""
      ]
    },
    {
      "cell_type": "markdown",
      "metadata": {
        "id": "9OXSJODFQy8v"
      },
      "source": [
        ""
      ]
    },
    {
      "cell_type": "markdown",
      "metadata": {
        "id": "4CwFDxjXQy0I"
      },
      "source": [
        "문제270. 겨울왕국 스크립트에서 elsa 가 문자열(단어)이 몇번 나오는가?\r\n"
      ]
    },
    {
      "cell_type": "code",
      "metadata": {
        "id": "elh0XX1uRiDV"
      },
      "source": [
        "# 배웠던 내용으로만 elsa 가 몇건 들어있는지 카운트\r\n",
        "winter = open('/content/drive/MyDrive/data/winter.txt', encoding = 'cp949')\r\n",
        "winter2 = winter.read().split(' ')\r\n",
        "cnt = 0\r\n",
        "\r\n",
        "for i in winter2:\r\n",
        "    if 'elsa' in i.lower():\r\n",
        "        cnt += 1\r\n",
        "        print( i.lower(), cnt )"
      ],
      "execution_count": null,
      "outputs": []
    },
    {
      "cell_type": "markdown",
      "metadata": {
        "id": "pQa3MiRyVWKi"
      },
      "source": [
        "    course.\r\n",
        "    elsa 304  \r\n",
        "    confidence.\r\n",
        "    anna\r\n",
        "    elsa?\r\n",
        "    elsa\r\n",
        "    love.\r\n",
        "    elsa 305\r\n",
        "      :\r\n",
        "      :\r\n",
        "    elsa, 316\r\n",
        "    ska--\r\n",
        "    elsa 317\r\n",
        "    elsa 318\r\n",
        "\r\n",
        "\r\n",
        "설명: 위의 결과를 보면 304 다음에 elsa 가 3개가 있으므로 305가 되면 안되는데 \r\n",
        "\t305가 된 이유는 confidence. anna elsa? elsa love. elsa 를  \r\n",
        "  하나의 문장으로 보았기 때문입니다.  \r\n",
        "\t어절별로 분리한걸로 코드를 구현했지만 실제로는 어절별로 분리가 되지 않았습니다.  \r\n",
        "\t그래서 위와같은 실수를 하지 않으려면 해결하는 방법은 ?"
      ]
    },
    {
      "cell_type": "markdown",
      "metadata": {
        "id": "L2WavXJFWBCM"
      },
      "source": [
        ""
      ]
    },
    {
      "cell_type": "markdown",
      "metadata": {
        "id": "zTlrFUdEWA5F"
      },
      "source": [
        ""
      ]
    },
    {
      "cell_type": "markdown",
      "metadata": {
        "id": "oHSdwWKbWAvC"
      },
      "source": [
        "먼저 스크립트를 행단위로 먼저 분리를 하고나서 어절별로 분리를 해야합니다.\r\n",
        "\r\n",
        " 1."
      ]
    },
    {
      "cell_type": "code",
      "metadata": {
        "colab": {
          "base_uri": "https://localhost:8080/"
        },
        "id": "Ske-VhGbVdPQ",
        "outputId": "231c253e-39b7-4a6c-fc6f-2811b8bbb9c1"
      },
      "source": [
        "winter = open('/content/drive/MyDrive/data/winter.txt', encoding = 'cp949')\r\n",
        "winter2 = winter.read().split(\"\\n\")       # 엔터로 먼저 줄 단위로 분리를 해야함\r\n",
        "\r\n",
        "cnt = 0\r\n",
        "for i in winter2:\r\n",
        "    for j in i.split(' '):\r\n",
        "        if 'elsa' in j.lower():\r\n",
        "            cnt +=1\r\n",
        "            #print(j,cnt)\r\n",
        "print(cnt)"
      ],
      "execution_count": 37,
      "outputs": [
        {
          "output_type": "stream",
          "text": [
            "329\n"
          ],
          "name": "stdout"
        }
      ]
    },
    {
      "cell_type": "markdown",
      "metadata": {
        "id": "no5IzWgyWd3v"
      },
      "source": [
        ""
      ]
    },
    {
      "cell_type": "markdown",
      "metadata": {
        "id": "uIEa4cvCWdXW"
      },
      "source": [
        "2."
      ]
    },
    {
      "cell_type": "code",
      "metadata": {
        "colab": {
          "base_uri": "https://localhost:8080/"
        },
        "id": "llSDS4AEWehn",
        "outputId": "c67e4f18-4bfe-4b49-d8e9-db992f1b0f1c"
      },
      "source": [
        "winter = open('/content/drive/MyDrive/data/winter.txt', encoding = 'cp949')\r\n",
        "winter2 = winter.read().split()             # 아무것도 안쓰면 어절별로 나뉜다. 기본값이 어절별\r\n",
        "cnt=0\r\n",
        "\r\n",
        "for i in winter2:\r\n",
        "    if 'elsa' in i.lower():\r\n",
        "        cnt+=1\r\n",
        "print(cnt)"
      ],
      "execution_count": 40,
      "outputs": [
        {
          "output_type": "stream",
          "text": [
            "329\n"
          ],
          "name": "stdout"
        }
      ]
    },
    {
      "cell_type": "markdown",
      "metadata": {
        "id": "FuHxOmlzWvMi"
      },
      "source": [
        ""
      ]
    },
    {
      "cell_type": "markdown",
      "metadata": {
        "id": "cSKKKp-OWvEG"
      },
      "source": [
        ""
      ]
    },
    {
      "cell_type": "markdown",
      "metadata": {
        "id": "02Mtr73nWu9G"
      },
      "source": [
        "**■ 83. 문자열 길이 구하기(len)**\r\n",
        "\r\n",
        "예제:"
      ]
    },
    {
      "cell_type": "code",
      "metadata": {
        "colab": {
          "base_uri": "https://localhost:8080/"
        },
        "id": "oICeeScnWxlS",
        "outputId": "c9c424d6-04ef-4873-a264-58f23d355282"
      },
      "source": [
        "a = 'scott'\r\n",
        "print( len(a) )"
      ],
      "execution_count": 41,
      "outputs": [
        {
          "output_type": "stream",
          "text": [
            "5\n"
          ],
          "name": "stdout"
        }
      ]
    },
    {
      "cell_type": "markdown",
      "metadata": {
        "id": "pWmmzzHIWzjx"
      },
      "source": [
        ""
      ]
    },
    {
      "cell_type": "markdown",
      "metadata": {
        "id": "Tp8XJNO3WzcZ"
      },
      "source": [
        ""
      ]
    },
    {
      "cell_type": "markdown",
      "metadata": {
        "id": "QZ6vopZZWzUY"
      },
      "source": [
        "문제271. 파이썬으로 emp2.csv 를 읽어 이름, 이름의 길이를 출력하시오 !\r\n",
        "\r\n",
        "SQL>\r\n",
        "\r\n",
        "    select ename, length(ename)\r\n",
        "       from emp;\r\n",
        "\r\n",
        "파이썬>"
      ]
    },
    {
      "cell_type": "code",
      "metadata": {
        "colab": {
          "base_uri": "https://localhost:8080/"
        },
        "id": "fIlSbznpW3D6",
        "outputId": "d358f2a5-e87a-40e2-9b56-b82723fec44e"
      },
      "source": [
        "import csv\r\n",
        "\r\n",
        "file = open('/content/drive/MyDrive/data/emp2.csv')\r\n",
        "emp_csv = csv.reader(file)\r\n",
        "\r\n",
        "for emp_list in emp_csv:\r\n",
        "    print( emp_list[1], len(emp_list[1]) )"
      ],
      "execution_count": 42,
      "outputs": [
        {
          "output_type": "stream",
          "text": [
            "KING 4\n",
            "BLAKE 5\n",
            "CLARK 5\n",
            "JONES 5\n",
            "MARTIN 6\n",
            "ALLEN 5\n",
            "TURNER 6\n",
            "JAMES 5\n",
            "WARD 4\n",
            "FORD 4\n",
            "SMITH 5\n",
            "SCOTT 5\n",
            "ADAMS 5\n",
            "MILLER 6\n"
          ],
          "name": "stdout"
        }
      ]
    },
    {
      "cell_type": "markdown",
      "metadata": {
        "id": "jw3GF6TtXIqV"
      },
      "source": [
        ""
      ]
    },
    {
      "cell_type": "markdown",
      "metadata": {
        "id": "-epQEKAdXIiP"
      },
      "source": [
        ""
      ]
    },
    {
      "cell_type": "markdown",
      "metadata": {
        "id": "VZd4loZbXIa8"
      },
      "source": [
        "**■ 84. 문자열이 알파벳인지 검사하기(isalpha)**\r\n",
        "\r\n",
        "문자열은 문자나 숫자, 기호들로 구성이 됩니다.  \r\n",
        "코드를 작성하다 보면 특정 문자열이\r\n",
        "한글이나 알파벳과 같이 사람의 언어를 표현하기 위해 사용되는 문자로만 구성되어 있는지 확인해야하는 경우가 있습니다.\r\n",
        "\r\n",
        "예제:"
      ]
    },
    {
      "cell_type": "code",
      "metadata": {
        "colab": {
          "base_uri": "https://localhost:8080/"
        },
        "id": "rph6ookkXOOP",
        "outputId": "0aef2a7a-5fbd-4d50-9a01-48b0d497dd74"
      },
      "source": [
        "txt1 = 'Warcarft three'\r\n",
        "txt2 = '안녕'\r\n",
        "txt3 = '3PO'\r\n",
        "\r\n",
        "print( txt1.isalpha() )   # False  공백이 하나 있어서 False 가 나옴\r\n",
        "print( txt2.isalpha() )   # True   한글이나 다른 나라언어도 True 가 나옴\r\n",
        "print( txt3.isalpha() )   # False   숫자 3 때문에 False"
      ],
      "execution_count": 43,
      "outputs": [
        {
          "output_type": "stream",
          "text": [
            "False\n",
            "True\n",
            "False\n"
          ],
          "name": "stdout"
        }
      ]
    },
    {
      "cell_type": "markdown",
      "metadata": {
        "id": "7xShfPgLXTWS"
      },
      "source": [
        ""
      ]
    },
    {
      "cell_type": "markdown",
      "metadata": {
        "id": "72fmU8YlXTQr"
      },
      "source": [
        ""
      ]
    },
    {
      "cell_type": "markdown",
      "metadata": {
        "id": "_Napru2MXTJn"
      },
      "source": [
        "문제272. 스티브 잡스 연설문인 jobs.txt 를 한행 한행씩 출력하시오 !"
      ]
    },
    {
      "cell_type": "code",
      "metadata": {
        "id": "OieCGIdRXVvQ"
      },
      "source": [
        "stev = open('/content/drive/MyDrive/data/jobs.txt')\r\n",
        "stev2 = stev.read().split('\\n')        # 한 행씩 분리하는 작업\r\n",
        "\r\n",
        "for i in stev2:\r\n",
        "    print(i)"
      ],
      "execution_count": null,
      "outputs": []
    },
    {
      "cell_type": "markdown",
      "metadata": {
        "id": "xRthtTQJXaRU"
      },
      "source": [
        ""
      ]
    },
    {
      "cell_type": "markdown",
      "metadata": {
        "id": "TOUZXr_0XqbJ"
      },
      "source": [
        ""
      ]
    },
    {
      "cell_type": "markdown",
      "metadata": {
        "id": "To69LtejXqSY"
      },
      "source": [
        "문제273. 위에서 한행씩 출력하고 있는 스크립트를 철자 하나씩 출력하시오"
      ]
    },
    {
      "cell_type": "code",
      "metadata": {
        "id": "Z5iggM8xXr76"
      },
      "source": [
        "stev = open('/content/drive/MyDrive/data/jobs.txt')\r\n",
        "stev2 = stev.read().split('\\n')        # 한 행씩 분리하는 작업\r\n",
        "\r\n",
        "for i in stev2:\r\n",
        "    for k in i:        # 스크립트 한행을 읽어서 철자를 하나씩 불러오는 코드\r\n",
        "        print(k)"
      ],
      "execution_count": null,
      "outputs": []
    },
    {
      "cell_type": "markdown",
      "metadata": {
        "id": "FAaBTDnKXzfL"
      },
      "source": [
        ""
      ]
    },
    {
      "cell_type": "markdown",
      "metadata": {
        "id": "po5WS9-VXzXE"
      },
      "source": [
        ""
      ]
    },
    {
      "cell_type": "markdown",
      "metadata": {
        "id": "GFtGmr0tXzPs"
      },
      "source": [
        "문제274. 위에서 출력된 철자가 알파벳이면 cnt 를 증가시켜서 스티븐 잡스 연설문에 알파벳이 몇개가 있는지 출력하시오."
      ]
    },
    {
      "cell_type": "code",
      "metadata": {
        "colab": {
          "base_uri": "https://localhost:8080/"
        },
        "id": "Bgr4Q1OyX2Rb",
        "outputId": "34213fc7-9022-4613-d6e2-84f2b5e741ee"
      },
      "source": [
        "stev = open('/content/drive/MyDrive/data/jobs.txt')\r\n",
        "stev2 = stev.read().split('\\n')    \r\n",
        "cnt = 0\r\n",
        "\r\n",
        "for i in stev2:\r\n",
        "    for k in i:  \r\n",
        "        if k.isalpha() == True:\r\n",
        "            cnt += 1\r\n",
        "\r\n",
        "print(cnt)"
      ],
      "execution_count": 51,
      "outputs": [
        {
          "output_type": "stream",
          "text": [
            "9255\n"
          ],
          "name": "stdout"
        }
      ]
    },
    {
      "cell_type": "markdown",
      "metadata": {
        "id": "9AzG6Aq3YE7w"
      },
      "source": [
        "설명: 스티브 잡스 연설문에서 숫자나 공백문자나 마침표와 같은 구두점을 뺀\r\n",
        "\t알파벳 철자만 카운트 했습니다."
      ]
    },
    {
      "cell_type": "markdown",
      "metadata": {
        "id": "fsJeWE4pYEyt"
      },
      "source": [
        ""
      ]
    },
    {
      "cell_type": "markdown",
      "metadata": {
        "id": "DHJm6RPeYEp3"
      },
      "source": [
        ""
      ]
    },
    {
      "cell_type": "markdown",
      "metadata": {
        "id": "q1qM0_1IYEbB"
      },
      "source": [
        "**■ 85. 문자열이 숫자인지 검사하기(isdigit)**\r\n",
        "\r\n",
        "문자열 객체의 isdigit() 메소드는 문자열을 구성하는 요소가 모두 숫자인지 체크하고 True 또는 False 로 리턴합니다.\r\n",
        "\r\n",
        "    번호\t내장함수\t      설명\r\n",
        "     1\t  isalpha()\t알파벳(한글)이 맞는지 확인\r\n",
        "     2\t  isdigit()\t숫자가 맞는지 확인\r\n",
        "     3\t  isspace()\t공백이 맞는지 확인"
      ]
    },
    {
      "cell_type": "markdown",
      "metadata": {
        "id": "Dlrh3H7PYV7Q"
      },
      "source": [
        ""
      ]
    },
    {
      "cell_type": "markdown",
      "metadata": {
        "id": "XTTMExO6YVz7"
      },
      "source": [
        ""
      ]
    },
    {
      "cell_type": "markdown",
      "metadata": {
        "id": "UKQ0axKPYVqQ"
      },
      "source": [
        "문제275. 스티브 잡스 연설문에는 숫자가 몇개가 있는지 출력하시오 !"
      ]
    },
    {
      "cell_type": "code",
      "metadata": {
        "colab": {
          "base_uri": "https://localhost:8080/"
        },
        "id": "8PVsui5DYEQk",
        "outputId": "166c3cb5-25cc-4ff0-e56e-0c551023a706"
      },
      "source": [
        "stev = open('/content/drive/MyDrive/data/jobs.txt')\r\n",
        "stev2 = stev.read().split('\\n')    \r\n",
        "cnt = 0\r\n",
        "\r\n",
        "for i in stev2:\r\n",
        "    for k in i:  \r\n",
        "        if k.isdigit() == True:\r\n",
        "            cnt += 1\r\n",
        "\r\n",
        "print(cnt)"
      ],
      "execution_count": 52,
      "outputs": [
        {
          "output_type": "stream",
          "text": [
            "43\n"
          ],
          "name": "stdout"
        }
      ]
    },
    {
      "cell_type": "markdown",
      "metadata": {
        "id": "cXiqrPBZYbYb"
      },
      "source": [
        ""
      ]
    },
    {
      "cell_type": "markdown",
      "metadata": {
        "id": "BVsLhQ-GYbQO"
      },
      "source": [
        ""
      ]
    },
    {
      "cell_type": "markdown",
      "metadata": {
        "id": "CUzfMRJ3YbHh"
      },
      "source": [
        "**■ 86. 문자열이 알파벳 또는 숫자인지 검사하기(isalnum)**\r\n",
        "\r\n",
        "알파벳(한글) 과 숫자를 동시에 확인하는 문자열 함수는 isalnum 입니다.\r\n",
        "\r\n",
        "예제:"
      ]
    },
    {
      "cell_type": "code",
      "metadata": {
        "colab": {
          "base_uri": "https://localhost:8080/"
        },
        "id": "9dUARMVZX_IM",
        "outputId": "55daf0e4-bdfd-43bc-a900-23b23321acce"
      },
      "source": [
        "a = 'A story is 2003'\r\n",
        "for i in a:\r\n",
        "    if i.isalnum() == True:\r\n",
        "        print(i)"
      ],
      "execution_count": 53,
      "outputs": [
        {
          "output_type": "stream",
          "text": [
            "A\n",
            "s\n",
            "t\n",
            "o\n",
            "r\n",
            "y\n",
            "i\n",
            "s\n",
            "2\n",
            "0\n",
            "0\n",
            "3\n"
          ],
          "name": "stdout"
        }
      ]
    },
    {
      "cell_type": "markdown",
      "metadata": {
        "id": "oQdo7tJuYrNU"
      },
      "source": [
        ""
      ]
    },
    {
      "cell_type": "markdown",
      "metadata": {
        "id": "BGJdbKAtYrF6"
      },
      "source": [
        ""
      ]
    },
    {
      "cell_type": "markdown",
      "metadata": {
        "id": "D3jIfcZGYq9Z"
      },
      "source": [
        "\r\n",
        "** 캐냐 은행의 데이터 분석 사례를 파이썬 코드로 구현해 봅니다.\r\n",
        "    (긍정단어집, 부정단어집)"
      ]
    },
    {
      "cell_type": "markdown",
      "metadata": {
        "id": "oYhFCeGIY8i3"
      },
      "source": [
        ""
      ]
    },
    {
      "cell_type": "markdown",
      "metadata": {
        "id": "WzF0VMgdY8T7"
      },
      "source": [
        "예제1. 긍정단어(positive-words.txt) 를 파이썬으로 읽어서 한행씩 출력하시오"
      ]
    },
    {
      "cell_type": "code",
      "metadata": {
        "id": "8_rUZo36Yqpu"
      },
      "source": [
        "postive = open('/content/drive/MyDrive/data/positive-words.txt')\r\n",
        "pos = postive.read().split('\\n')\r\n",
        "\r\n",
        "for i in pos:\r\n",
        "    print(i)"
      ],
      "execution_count": null,
      "outputs": []
    },
    {
      "cell_type": "markdown",
      "metadata": {
        "id": "egjtaah2ZiOv"
      },
      "source": [
        ""
      ]
    },
    {
      "cell_type": "markdown",
      "metadata": {
        "id": "ziewiAGqZiGl"
      },
      "source": [
        ""
      ]
    },
    {
      "cell_type": "markdown",
      "metadata": {
        "id": "3qJxp1G9Zh9x"
      },
      "source": [
        "예제2. 아래의 pos 를 프린트 해보세요~"
      ]
    },
    {
      "cell_type": "code",
      "metadata": {
        "colab": {
          "base_uri": "https://localhost:8080/"
        },
        "id": "_5luH0pgZjRH",
        "outputId": "8c5b011a-af52-4e5c-a6d6-6e80a6f6ec4c"
      },
      "source": [
        "postive = open('/content/drive/MyDrive/data/positive-words.txt')\r\n",
        "pos = postive.read().split('\\n')\r\n",
        "\r\n",
        "print(pos)\r\n",
        "print(type(pos))     # <class 'list'>"
      ],
      "execution_count": 57,
      "outputs": [
        {
          "output_type": "stream",
          "text": [
            "['', 'a+', 'abound', 'abounds', 'abundance', 'abundant', 'accessable', 'accessible', 'acclaim', 'acclaimed', 'acclamation', 'accolade', 'accolades', 'accommodative', 'accomodative', 'accomplish', 'accomplished', 'accomplishment', 'accomplishments', 'accurate', 'accurately', 'achievable', 'achievement', 'achievements', 'achievible', 'acumen', 'adaptable', 'adaptive', 'adequate', 'adjustable', 'admirable', 'admirably', 'admiration', 'admire', 'admirer', 'admiring', 'admiringly', 'adorable', 'adore', 'adored', 'adorer', 'adoring', 'adoringly', 'adroit', 'adroitly', 'adulate', 'adulation', 'adulatory', 'advanced', 'advantage', 'advantageous', 'advantageously', 'advantages', 'adventuresome', 'adventurous', 'advocate', 'advocated', 'advocates', 'affability', 'affable', 'affably', 'affectation', 'affection', 'affectionate', 'affinity', 'affirm', 'affirmation', 'affirmative', 'affluence', 'affluent', 'afford', 'affordable', 'affordably', 'afordable', 'agile', 'agilely', 'agility', 'agreeable', 'agreeableness', 'agreeably', 'all-around', 'alluring', 'alluringly', 'altruistic', 'altruistically', 'amaze', 'amazed', 'amazement', 'amazes', 'amazing', 'amazingly', 'ambitious', 'ambitiously', 'ameliorate', 'amenable', 'amenity', 'amiability', 'amiabily', 'amiable', 'amicability', 'amicable', 'amicably', 'amity', 'ample', 'amply', 'amuse', 'amusing', 'amusingly', 'angel', 'angelic', 'apotheosis', 'appeal', 'appealing', 'applaud', 'appreciable', 'appreciate', 'appreciated', 'appreciates', 'appreciative', 'appreciatively', 'appropriate', 'approval', 'approve', 'ardent', 'ardently', 'ardor', 'articulate', 'aspiration', 'aspirations', 'aspire', 'assurance', 'assurances', 'assure', 'assuredly', 'assuring', 'astonish', 'astonished', 'astonishing', 'astonishingly', 'astonishment', 'astound', 'astounded', 'astounding', 'astoundingly', 'astutely', 'attentive', 'attraction', 'attractive', 'attractively', 'attune', 'audible', 'audibly', 'auspicious', 'authentic', 'authoritative', 'autonomous', 'available', 'aver', 'avid', 'avidly', 'award', 'awarded', 'awards', 'awe', 'awed', 'awesome', 'awesomely', 'awesomeness', 'awestruck', 'awsome', 'backbone', 'balanced', 'bargain', 'beauteous', 'beautiful', 'beautifullly', 'beautifully', 'beautify', 'beauty', 'beckon', 'beckoned', 'beckoning', 'beckons', 'believable', 'believeable', 'beloved', 'benefactor', 'beneficent', 'beneficial', 'beneficially', 'beneficiary', 'benefit', 'benefits', 'benevolence', 'benevolent', 'benifits', 'best', 'best-known', 'best-performing', 'best-selling', 'better', 'better-known', 'better-than-expected', 'beutifully', 'blameless', 'bless', 'blessing', 'bliss', 'blissful', 'blissfully', 'blithe', 'blockbuster', 'bloom', 'blossom', 'bolster', 'bonny', 'bonus', 'bonuses', 'boom', 'booming', 'boost', 'boundless', 'bountiful', 'brainiest', 'brainy', 'brand-new', 'brave', 'bravery', 'bravo', 'breakthrough', 'breakthroughs', 'breathlessness', 'breathtaking', 'breathtakingly', 'breeze', 'bright', 'brighten', 'brighter', 'brightest', 'brilliance', 'brilliances', 'brilliant', 'brilliantly', 'brisk', 'brotherly', 'bullish', 'buoyant', 'cajole', 'calm', 'calming', 'calmness', 'capability', 'capable', 'capably', 'captivate', 'captivating', 'carefree', 'cashback', 'cashbacks', 'catchy', 'celebrate', 'celebrated', 'celebration', 'celebratory', 'champ', 'champion', 'charisma', 'charismatic', 'charitable', 'charm', 'charming', 'charmingly', 'chaste', 'cheaper', 'cheapest', 'cheer', 'cheerful', 'cheery', 'cherish', 'cherished', 'cherub', 'chic', 'chivalrous', 'chivalry', 'civility', 'civilize', 'clarity', 'classic', 'classy', 'clean', 'cleaner', 'cleanest', 'cleanliness', 'cleanly', 'clear', 'clear-cut', 'cleared', 'clearer', 'clearly', 'clears', 'clever', 'cleverly', 'cohere', 'coherence', 'coherent', 'cohesive', 'colorful', 'comely', 'comfort', 'comfortable', 'comfortably', 'comforting', 'comfy', 'commend', 'commendable', 'commendably', 'commitment', 'commodious', 'compact', 'compactly', 'compassion', 'compassionate', 'compatible', 'competitive', 'complement', 'complementary', 'complemented', 'complements', 'compliant', 'compliment', 'complimentary', 'comprehensive', 'conciliate', 'conciliatory', 'concise', 'confidence', 'confident', 'congenial', 'congratulate', 'congratulation', 'congratulations', 'congratulatory', 'conscientious', 'considerate', 'consistent', 'consistently', 'constructive', 'consummate', 'contentment', 'continuity', 'contrasty', 'contribution', 'convenience', 'convenient', 'conveniently', 'convience', 'convienient', 'convient', 'convincing', 'convincingly', 'cool', 'coolest', 'cooperative', 'cooperatively', 'cornerstone', 'correct', 'correctly', 'cost-effective', 'cost-saving', 'counter-attack', 'counter-attacks', 'courage', 'courageous', 'courageously', 'courageousness', 'courteous', 'courtly', 'covenant', 'cozy', 'creative', 'credence', 'credible', 'crisp', 'crisper', 'cure', 'cure-all', 'cushy', 'cute', 'cuteness', 'danke', 'danken', 'daring', 'daringly', 'darling', 'dashing', 'dauntless', 'dawn', 'dazzle', 'dazzled', 'dazzling', 'dead-cheap', 'dead-on', 'decency', 'decent', 'decisive', 'decisiveness', 'dedicated', 'defeat', 'defeated', 'defeating', 'defeats', 'defender', 'deference', 'deft', 'deginified', 'delectable', 'delicacy', 'delicate', 'delicious', 'delight', 'delighted', 'delightful', 'delightfully', 'delightfulness', 'dependable', 'dependably', 'deservedly', 'deserving', 'desirable', 'desiring', 'desirous', 'destiny', 'detachable', 'devout', 'dexterous', 'dexterously', 'dextrous', 'dignified', 'dignify', 'dignity', 'diligence', 'diligent', 'diligently', 'diplomatic', 'dirt-cheap', 'distinction', 'distinctive', 'distinguished', 'diversified', 'divine', 'divinely', 'dominate', 'dominated', 'dominates', 'dote', 'dotingly', 'doubtless', 'dreamland', 'dumbfounded', 'dumbfounding', 'dummy-proof', 'durable', 'dynamic', 'eager', 'eagerly', 'eagerness', 'earnest', 'earnestly', 'earnestness', 'ease', 'eased', 'eases', 'easier', 'easiest', 'easiness', 'easing', 'easy', 'easy-to-use', 'easygoing', 'ebullience', 'ebullient', 'ebulliently', 'ecenomical', 'economical', 'ecstasies', 'ecstasy', 'ecstatic', 'ecstatically', 'edify', 'educated', 'effective', 'effectively', 'effectiveness', 'effectual', 'efficacious', 'efficient', 'efficiently', 'effortless', 'effortlessly', 'effusion', 'effusive', 'effusively', 'effusiveness', 'elan', 'elate', 'elated', 'elatedly', 'elation', 'electrify', 'elegance', 'elegant', 'elegantly', 'elevate', 'elite', 'eloquence', 'eloquent', 'eloquently', 'embolden', 'eminence', 'eminent', 'empathize', 'empathy', 'empower', 'empowerment', 'enchant', 'enchanted', 'enchanting', 'enchantingly', 'encourage', 'encouragement', 'encouraging', 'encouragingly', 'endear', 'endearing', 'endorse', 'endorsed', 'endorsement', 'endorses', 'endorsing', 'energetic', 'energize', 'energy-efficient', 'energy-saving', 'engaging', 'engrossing', 'enhance', 'enhanced', 'enhancement', 'enhances', 'enjoy', 'enjoyable', 'enjoyably', 'enjoyed', 'enjoying', 'enjoyment', 'enjoys', 'enlighten', 'enlightenment', 'enliven', 'ennoble', 'enough', 'enrapt', 'enrapture', 'enraptured', 'enrich', 'enrichment', 'enterprising', 'entertain', 'entertaining', 'entertains', 'enthral', 'enthrall', 'enthralled', 'enthuse', 'enthusiasm', 'enthusiast', 'enthusiastic', 'enthusiastically', 'entice', 'enticed', 'enticing', 'enticingly', 'entranced', 'entrancing', 'entrust', 'enviable', 'enviably', 'envious', 'enviously', 'enviousness', 'envy', 'equitable', 'ergonomical', 'err-free', 'erudite', 'ethical', 'eulogize', 'euphoria', 'euphoric', 'euphorically', 'evaluative', 'evenly', 'eventful', 'everlasting', 'evocative', 'exalt', 'exaltation', 'exalted', 'exaltedly', 'exalting', 'exaltingly', 'examplar', 'examplary', 'excallent', 'exceed', 'exceeded', 'exceeding', 'exceedingly', 'exceeds', 'excel', 'exceled', 'excelent', 'excellant', 'excelled', 'excellence', 'excellency', 'excellent', 'excellently', 'excels', 'exceptional', 'exceptionally', 'excite', 'excited', 'excitedly', 'excitedness', 'excitement', 'excites', 'exciting', 'excitingly', 'exellent', 'exemplar', 'exemplary', 'exhilarate', 'exhilarating', 'exhilaratingly', 'exhilaration', 'exonerate', 'expansive', 'expeditiously', 'expertly', 'exquisite', 'exquisitely', 'extol', 'extoll', 'extraordinarily', 'extraordinary', 'exuberance', 'exuberant', 'exuberantly', 'exult', 'exultant', 'exultation', 'exultingly', 'eye-catch', 'eye-catching', 'eyecatch', 'eyecatching', 'fabulous', 'fabulously', 'facilitate', 'fair', 'fairly', 'fairness', 'faith', 'faithful', 'faithfully', 'faithfulness', 'fame', 'famed', 'famous', 'famously', 'fancier', 'fancinating', 'fancy', 'fanfare', 'fans', 'fantastic', 'fantastically', 'fascinate', 'fascinating', 'fascinatingly', 'fascination', 'fashionable', 'fashionably', 'fast', 'fast-growing', 'fast-paced', 'faster', 'fastest', 'fastest-growing', 'faultless', 'fav', 'fave', 'favor', 'favorable', 'favored', 'favorite', 'favorited', 'favour', 'fearless', 'fearlessly', 'feasible', 'feasibly', 'feat', 'feature-rich', 'fecilitous', 'feisty', 'felicitate', 'felicitous', 'felicity', 'fertile', 'fervent', 'fervently', 'fervid', 'fervidly', 'fervor', 'festive', 'fidelity', 'fiery', 'fine', 'fine-looking', 'finely', 'finer', 'finest', 'firmer', 'first-class', 'first-in-class', 'first-rate', 'flashy', 'flatter', 'flattering', 'flatteringly', 'flawless', 'flawlessly', 'flexibility', 'flexible', 'flourish', 'flourishing', 'fluent', 'flutter', 'fond', 'fondly', 'fondness', 'foolproof', 'foremost', 'foresight', 'formidable', 'fortitude', 'fortuitous', 'fortuitously', 'fortunate', 'fortunately', 'fortune', 'fragrant', 'free', 'freed', 'freedom', 'freedoms', 'fresh', 'fresher', 'freshest', 'friendliness', 'friendly', 'frolic', 'frugal', 'fruitful', 'ftw', 'fulfillment', 'fun', 'futurestic', 'futuristic', 'gaiety', 'gaily', 'gain', 'gained', 'gainful', 'gainfully', 'gaining', 'gains', 'gallant', 'gallantly', 'galore', 'geekier', 'geeky', 'gem', 'gems', 'generosity', 'generous', 'generously', 'genial', 'genius', 'gentle', 'gentlest', 'genuine', 'gifted', 'glad', 'gladden', 'gladly', 'gladness', 'glamorous', 'glee', 'gleeful', 'gleefully', 'glimmer', 'glimmering', 'glisten', 'glistening', 'glitter', 'glitz', 'glorify', 'glorious', 'gloriously', 'glory', 'glow', 'glowing', 'glowingly', 'god-given', 'god-send', 'godlike', 'godsend', 'gold', 'golden', 'good', 'goodly', 'goodness', 'goodwill', 'goood', 'gooood', 'gorgeous', 'gorgeously', 'grace', 'graceful', 'gracefully', 'gracious', 'graciously', 'graciousness', 'grand', 'grandeur', 'grateful', 'gratefully', 'gratification', 'gratified', 'gratifies', 'gratify', 'gratifying', 'gratifyingly', 'gratitude', 'great', 'greatest', 'greatness', 'grin', 'groundbreaking', 'guarantee', 'guidance', 'guiltless', 'gumption', 'gush', 'gusto', 'gutsy', 'hail', 'halcyon', 'hale', 'hallmark', 'hallmarks', 'hallowed', 'handier', 'handily', 'hands-down', 'handsome', 'handsomely', 'handy', 'happier', 'happily', 'happiness', 'happy', 'hard-working', 'hardier', 'hardy', 'harmless', 'harmonious', 'harmoniously', 'harmonize', 'harmony', 'headway', 'heal', 'healthful', 'healthy', 'hearten', 'heartening', 'heartfelt', 'heartily', 'heartwarming', 'heaven', 'heavenly', 'helped', 'helpful', 'helping', 'hero', 'heroic', 'heroically', 'heroine', 'heroize', 'heros', 'high-quality', 'high-spirited', 'hilarious', 'holy', 'homage', 'honest', 'honesty', 'honor', 'honorable', 'honored', 'honoring', 'hooray', 'hopeful', 'hospitable', 'hot', 'hotcake', 'hotcakes', 'hottest', 'hug', 'humane', 'humble', 'humility', 'humor', 'humorous', 'humorously', 'humour', 'humourous', 'ideal', 'idealize', 'ideally', 'idol', 'idolize', 'idolized', 'idyllic', 'illuminate', 'illuminati', 'illuminating', 'illumine', 'illustrious', 'ilu', 'imaculate', 'imaginative', 'immaculate', 'immaculately', 'immense', 'impartial', 'impartiality', 'impartially', 'impassioned', 'impeccable', 'impeccably', 'important', 'impress', 'impressed', 'impresses', 'impressive', 'impressively', 'impressiveness', 'improve', 'improved', 'improvement', 'improvements', 'improves', 'improving', 'incredible', 'incredibly', 'indebted', 'individualized', 'indulgence', 'indulgent', 'industrious', 'inestimable', 'inestimably', 'inexpensive', 'infallibility', 'infallible', 'infallibly', 'influential', 'ingenious', 'ingeniously', 'ingenuity', 'ingenuous', 'ingenuously', 'innocuous', 'innovation', 'innovative', 'inpressed', 'insightful', 'insightfully', 'inspiration', 'inspirational', 'inspire', 'inspiring', 'instantly', 'instructive', 'instrumental', 'integral', 'integrated', 'intelligence', 'intelligent', 'intelligible', 'interesting', 'interests', 'intimacy', 'intimate', 'intricate', 'intrigue', 'intriguing', 'intriguingly', 'intuitive', 'invaluable', 'invaluablely', 'inventive', 'invigorate', 'invigorating', 'invincibility', 'invincible', 'inviolable', 'inviolate', 'invulnerable', 'irreplaceable', 'irreproachable', 'irresistible', 'irresistibly', 'issue-free', 'jaw-droping', 'jaw-dropping', 'jollify', 'jolly', 'jovial', 'joy', 'joyful', 'joyfully', 'joyous', 'joyously', 'jubilant', 'jubilantly', 'jubilate', 'jubilation', 'jubiliant', 'judicious', 'justly', 'keen', 'keenly', 'keenness', 'kid-friendly', 'kindliness', 'kindly', 'kindness', 'knowledgeable', 'kudos', 'large-capacity', 'laud', 'laudable', 'laudably', 'lavish', 'lavishly', 'law-abiding', 'lawful', 'lawfully', 'lead', 'leading', 'leads', 'lean', 'led', 'legendary', 'leverage', 'levity', 'liberate', 'liberation', 'liberty', 'lifesaver', 'light-hearted', 'lighter', 'likable', 'like', 'liked', 'likes', 'liking', 'lionhearted', 'lively', 'logical', 'long-lasting', 'lovable', 'lovably', 'love', 'loved', 'loveliness', 'lovely', 'lover', 'loves', 'loving', 'low-cost', 'low-price', 'low-priced', 'low-risk', 'lower-priced', 'loyal', 'loyalty', 'lucid', 'lucidly', 'luck', 'luckier', 'luckiest', 'luckiness', 'lucky', 'lucrative', 'luminous', 'lush', 'luster', 'lustrous', 'luxuriant', 'luxuriate', 'luxurious', 'luxuriously', 'luxury', 'lyrical', 'magic', 'magical', 'magnanimous', 'magnanimously', 'magnificence', 'magnificent', 'magnificently', 'majestic', 'majesty', 'manageable', 'maneuverable', 'marvel', 'marveled', 'marvelled', 'marvellous', 'marvelous', 'marvelously', 'marvelousness', 'marvels', 'master', 'masterful', 'masterfully', 'masterpiece', 'masterpieces', 'masters', 'mastery', 'matchless', 'mature', 'maturely', 'maturity', 'meaningful', 'memorable', 'merciful', 'mercifully', 'mercy', 'merit', 'meritorious', 'merrily', 'merriment', 'merriness', 'merry', 'mesmerize', 'mesmerized', 'mesmerizes', 'mesmerizing', 'mesmerizingly', 'meticulous', 'meticulously', 'mightily', 'mighty', 'mind-blowing', 'miracle', 'miracles', 'miraculous', 'miraculously', 'miraculousness', 'modern', 'modest', 'modesty', 'momentous', 'monumental', 'monumentally', 'morality', 'motivated', 'multi-purpose', 'navigable', 'neat', 'neatest', 'neatly', 'nice', 'nicely', 'nicer', 'nicest', 'nifty', 'nimble', 'noble', 'nobly', 'noiseless', 'non-violence', 'non-violent', 'notably', 'noteworthy', 'nourish', 'nourishing', 'nourishment', 'novelty', 'nurturing', 'oasis', 'obsession', 'obsessions', 'obtainable', 'openly', 'openness', 'optimal', 'optimism', 'optimistic', 'opulent', 'orderly', 'originality', 'outdo', 'outdone', 'outperform', 'outperformed', 'outperforming', 'outperforms', 'outshine', 'outshone', 'outsmart', 'outstanding', 'outstandingly', 'outstrip', 'outwit', 'ovation', 'overjoyed', 'overtake', 'overtaken', 'overtakes', 'overtaking', 'overtook', 'overture', 'pain-free', 'painless', 'painlessly', 'palatial', 'pamper', 'pampered', 'pamperedly', 'pamperedness', 'pampers', 'panoramic', 'paradise', 'paramount', 'pardon', 'passion', 'passionate', 'passionately', 'patience', 'patient', 'patiently', 'patriot', 'patriotic', 'peace', 'peaceable', 'peaceful', 'peacefully', 'peacekeepers', 'peach', 'peerless', 'pep', 'pepped', 'pepping', 'peppy', 'peps', 'perfect', 'perfection', 'perfectly', 'permissible', 'perseverance', 'persevere', 'personages', 'personalized', 'phenomenal', 'phenomenally', 'picturesque', 'piety', 'pinnacle', 'playful', 'playfully', 'pleasant', 'pleasantly', 'pleased', 'pleases', 'pleasing', 'pleasingly', 'pleasurable', 'pleasurably', 'pleasure', 'plentiful', 'pluses', 'plush', 'plusses', 'poetic', 'poeticize', 'poignant', 'poise', 'poised', 'polished', 'polite', 'politeness', 'popular', 'portable', 'posh', 'positive', 'positively', 'positives', 'powerful', 'powerfully', 'praise', 'praiseworthy', 'praising', 'pre-eminent', 'precious', 'precise', 'precisely', 'preeminent', 'prefer', 'preferable', 'preferably', 'prefered', 'preferes', 'preferring', 'prefers', 'premier', 'prestige', 'prestigious', 'prettily', 'pretty', 'priceless', 'pride', 'principled', 'privilege', 'privileged', 'prize', 'proactive', 'problem-free', 'problem-solver', 'prodigious', 'prodigiously', 'prodigy', 'productive', 'productively', 'proficient', 'proficiently', 'profound', 'profoundly', 'profuse', 'profusion', 'progress', 'progressive', 'prolific', 'prominence', 'prominent', 'promise', 'promised', 'promises', 'promising', 'promoter', 'prompt', 'promptly', 'proper', 'properly', 'propitious', 'propitiously', 'pros', 'prosper', 'prosperity', 'prosperous', 'prospros', 'protect', 'protection', 'protective', 'proud', 'proven', 'proves', 'providence', 'proving', 'prowess', 'prudence', 'prudent', 'prudently', 'punctual', 'pure', 'purify', 'purposeful', 'quaint', 'qualified', 'qualify', 'quicker', 'quiet', 'quieter', 'radiance', 'radiant', 'rapid', 'rapport', 'rapt', 'rapture', 'raptureous', 'raptureously', 'rapturous', 'rapturously', 'rational', 'razor-sharp', 'reachable', 'readable', 'readily', 'ready', 'reaffirm', 'reaffirmation', 'realistic', 'realizable', 'reasonable', 'reasonably', 'reasoned', 'reassurance', 'reassure', 'receptive', 'reclaim', 'recomend', 'recommend', 'recommendation', 'recommendations', 'recommended', 'reconcile', 'reconciliation', 'record-setting', 'recover', 'recovery', 'rectification', 'rectify', 'rectifying', 'redeem', 'redeeming', 'redemption', 'refine', 'refined', 'refinement', 'reform', 'reformed', 'reforming', 'reforms', 'refresh', 'refreshed', 'refreshing', 'refund', 'refunded', 'regal', 'regally', 'regard', 'rejoice', 'rejoicing', 'rejoicingly', 'rejuvenate', 'rejuvenated', 'rejuvenating', 'relaxed', 'relent', 'reliable', 'reliably', 'relief', 'relish', 'remarkable', 'remarkably', 'remedy', 'remission', 'remunerate', 'renaissance', 'renewed', 'renown', 'renowned', 'replaceable', 'reputable', 'reputation', 'resilient', 'resolute', 'resound', 'resounding', 'resourceful', 'resourcefulness', 'respect', 'respectable', 'respectful', 'respectfully', 'respite', 'resplendent', 'responsibly', 'responsive', 'restful', 'restored', 'restructure', 'restructured', 'restructuring', 'retractable', 'revel', 'revelation', 'revere', 'reverence', 'reverent', 'reverently', 'revitalize', 'revival', 'revive', 'revives', 'revolutionary', 'revolutionize', 'revolutionized', 'revolutionizes', 'reward', 'rewarding', 'rewardingly', 'rich', 'richer', 'richly', 'richness', 'right', 'righten', 'righteous', 'righteously', 'righteousness', 'rightful', 'rightfully', 'rightly', 'rightness', 'risk-free', 'robust', 'rock-star', 'rock-stars', 'rockstar', 'rockstars', 'romantic', 'romantically', 'romanticize', 'roomier', 'roomy', 'rosy', 'safe', 'safely', 'sagacity', 'sagely', 'saint', 'saintliness', 'saintly', 'salutary', 'salute', 'sane', 'satisfactorily', 'satisfactory', 'satisfied', 'satisfies', 'satisfy', 'satisfying', 'satisified', 'saver', 'savings', 'savior', 'savvy', 'scenic', 'seamless', 'seasoned', 'secure', 'securely', 'selective', 'self-determination', 'self-respect', 'self-satisfaction', 'self-sufficiency', 'self-sufficient', 'sensation', 'sensational', 'sensationally', 'sensations', 'sensible', 'sensibly', 'sensitive', 'serene', 'serenity', 'sexy', 'sharp', 'sharper', 'sharpest', 'shimmering', 'shimmeringly', 'shine', 'shiny', 'significant', 'silent', 'simpler', 'simplest', 'simplified', 'simplifies', 'simplify', 'simplifying', 'sincere', 'sincerely', 'sincerity', 'skill', 'skilled', 'skillful', 'skillfully', 'slammin', 'sleek', 'slick', 'smart', 'smarter', 'smartest', 'smartly', 'smile', 'smiles', 'smiling', 'smilingly', 'smitten', 'smooth', 'smoother', 'smoothes', 'smoothest', 'smoothly', 'snappy', 'snazzy', 'sociable', 'soft', 'softer', 'solace', 'solicitous', 'solicitously', 'solid', 'solidarity', 'soothe', 'soothingly', 'sophisticated', 'soulful', 'soundly', 'soundness', 'spacious', 'sparkle', 'sparkling', 'spectacular', 'spectacularly', 'speedily', 'speedy', 'spellbind', 'spellbinding', 'spellbindingly', 'spellbound', 'spirited', 'spiritual', 'splendid', 'splendidly', 'splendor', 'spontaneous', 'sporty', 'spotless', 'sprightly', 'stability', 'stabilize', 'stable', 'stainless', 'standout', 'state-of-the-art', 'stately', 'statuesque', 'staunch', 'staunchly', 'staunchness', 'steadfast', 'steadfastly', 'steadfastness', 'steadiest', 'steadiness', 'steady', 'stellar', 'stellarly', 'stimulate', 'stimulates', 'stimulating', 'stimulative', 'stirringly', 'straighten', 'straightforward', 'streamlined', 'striking', 'strikingly', 'striving', 'strong', 'stronger', 'strongest', 'stunned', 'stunning', 'stunningly', 'stupendous', 'stupendously', 'sturdier', 'sturdy', 'stylish', 'stylishly', 'stylized', 'suave', 'suavely', 'sublime', 'subsidize', 'subsidized', 'subsidizes', 'subsidizing', 'substantive', 'succeed', 'succeeded', 'succeeding', 'succeeds', 'succes', 'success', 'successes', 'successful', 'successfully', 'suffice', 'sufficed', 'suffices', 'sufficient', 'sufficiently', 'suitable', 'sumptuous', 'sumptuously', 'sumptuousness', 'super', 'superb', 'superbly', 'superior', 'superiority', 'supple', 'support', 'supported', 'supporter', 'supporting', 'supportive', 'supports', 'supremacy', 'supreme', 'supremely', 'supurb', 'supurbly', 'surmount', 'surpass', 'surreal', 'survival', 'survivor', 'sustainability', 'sustainable', 'swank', 'swankier', 'swankiest', 'swanky', 'sweeping', 'sweet', 'sweeten', 'sweetheart', 'sweetly', 'sweetness', 'swift', 'swiftness', 'talent', 'talented', 'talents', 'tantalize', 'tantalizing', 'tantalizingly', 'tempt', 'tempting', 'temptingly', 'tenacious', 'tenaciously', 'tenacity', 'tender', 'tenderly', 'terrific', 'terrifically', 'thank', 'thankful', 'thinner', 'thoughtful', 'thoughtfully', 'thoughtfulness', 'thrift', 'thrifty', 'thrill', 'thrilled', 'thrilling', 'thrillingly', 'thrills', 'thrive', 'thriving', 'thumb-up', 'thumbs-up', 'tickle', 'tidy', 'time-honored', 'timely', 'tingle', 'titillate', 'titillating', 'titillatingly', 'togetherness', 'tolerable', 'toll-free', 'top', 'top-notch', 'top-quality', 'topnotch', 'tops', 'tough', 'tougher', 'toughest', 'traction', 'tranquil', 'tranquility', 'transparent', 'treasure', 'tremendously', 'trendy', 'triumph', 'triumphal', 'triumphant', 'triumphantly', 'trivially', 'trophy', 'trouble-free', 'trump', 'trumpet', 'trust', 'trusted', 'trusting', 'trustingly', 'trustworthiness', 'trustworthy', 'trusty', 'truthful', 'truthfully', 'truthfulness', 'twinkly', 'ultra-crisp', 'unabashed', 'unabashedly', 'unaffected', 'unassailable', 'unbeatable', 'unbiased', 'unbound', 'uncomplicated', 'unconditional', 'undamaged', 'undaunted', 'understandable', 'undisputable', 'undisputably', 'undisputed', 'unencumbered', 'unequivocal', 'unequivocally', 'unfazed', 'unfettered', 'unforgettable', 'unity', 'unlimited', 'unmatched', 'unparalleled', 'unquestionable', 'unquestionably', 'unreal', 'unrestricted', 'unrivaled', 'unselfish', 'unwavering', 'upbeat', 'upgradable', 'upgradeable', 'upgraded', 'upheld', 'uphold', 'uplift', 'uplifting', 'upliftingly', 'upliftment', 'upscale', 'usable', 'useable', 'useful', 'user-friendly', 'user-replaceable', 'valiant', 'valiantly', 'valor', 'valuable', 'variety', 'venerate', 'verifiable', 'veritable', 'versatile', 'versatility', 'vibrant', 'vibrantly', 'victorious', 'victory', 'viewable', 'vigilance', 'vigilant', 'virtue', 'virtuous', 'virtuously', 'visionary', 'vivacious', 'vivid', 'vouch', 'vouchsafe', 'warm', 'warmer', 'warmhearted', 'warmly', 'warmth', 'wealthy', 'welcome', 'well', 'well-backlit', 'well-balanced', 'well-behaved', 'well-being', 'well-bred', 'well-connected', 'well-educated', 'well-established', 'well-informed', 'well-intentioned', 'well-known', 'well-made', 'well-managed', 'well-mannered', 'well-positioned', 'well-received', 'well-regarded', 'well-rounded', 'well-run', 'well-wishers', 'wellbeing', 'whoa', 'wholeheartedly', 'wholesome', 'whooa', 'whoooa', 'wieldy', 'willing', 'willingly', 'willingness', 'win', 'windfall', 'winnable', 'winner', 'winners', 'winning', 'wins', 'wisdom', 'wise', 'wisely', 'witty', 'won', 'wonder', 'wonderful', 'wonderfully', 'wonderous', 'wonderously', 'wonders', 'wondrous', 'woo', 'work', 'workable', 'worked', 'works', 'world-famous', 'worth', 'worth-while', 'worthiness', 'worthwhile', 'worthy', 'wow', 'wowed', 'wowing', 'wows', 'yay', 'youthful', 'zeal', 'zenith', 'zest', 'zippy', '']\n",
            "<class 'list'>\n"
          ],
          "name": "stdout"
        }
      ]
    },
    {
      "cell_type": "markdown",
      "metadata": {
        "id": "fOsoOG92ZtVV"
      },
      "source": [
        ""
      ]
    },
    {
      "cell_type": "markdown",
      "metadata": {
        "id": "lj40TqoYZtN6"
      },
      "source": [
        ""
      ]
    },
    {
      "cell_type": "markdown",
      "metadata": {
        "id": "GfgONcDvZtGN"
      },
      "source": [
        "예제3. 'wonderful' 단어가 긍정단어 리스트들 중에 있는지 확인하시오!"
      ]
    },
    {
      "cell_type": "code",
      "metadata": {
        "colab": {
          "base_uri": "https://localhost:8080/"
        },
        "id": "yy8DKwL2Z1So",
        "outputId": "57a9dffc-a2fd-47b8-8ccd-38e60fbcbe3a"
      },
      "source": [
        "postive = open('/content/drive/MyDrive/data/positive-words.txt')\r\n",
        "pos = postive.read().split('\\n')\r\n",
        "\r\n",
        "if 'wonderful' in pos:\r\n",
        "    print('존재합니다.')\r\n",
        "else:\r\n",
        "    print('존재하지 않습니다.')"
      ],
      "execution_count": 58,
      "outputs": [
        {
          "output_type": "stream",
          "text": [
            "존재합니다.\n"
          ],
          "name": "stdout"
        }
      ]
    },
    {
      "cell_type": "markdown",
      "metadata": {
        "id": "SUwJWWTnaJIu"
      },
      "source": [
        ""
      ]
    },
    {
      "cell_type": "markdown",
      "metadata": {
        "id": "fgbMI6ScaJB_"
      },
      "source": [
        ""
      ]
    },
    {
      "cell_type": "markdown",
      "metadata": {
        "id": "MVG2DRDXaI6c"
      },
      "source": [
        "예제4. 스티브 잡스 연설문(jobs.txt) 를 읽어서 한단어씩 출력하시오 !\r\n"
      ]
    },
    {
      "cell_type": "code",
      "metadata": {
        "id": "0smnBsgfaKaa"
      },
      "source": [
        "stev = open('/content/drive/MyDrive/data/jobs.txt')\r\n",
        "stev2 = stev.read().split()    # 어절별로 분리해서 stev2(리스트) 에 저장합니다.  \r\n",
        "\r\n",
        "for i in stev2:\r\n",
        "    print(i)"
      ],
      "execution_count": null,
      "outputs": []
    },
    {
      "cell_type": "markdown",
      "metadata": {
        "id": "BYC6bnaoaXSv"
      },
      "source": [
        ""
      ]
    },
    {
      "cell_type": "markdown",
      "metadata": {
        "id": "FtQ0BuBJaXKF"
      },
      "source": [
        ""
      ]
    },
    {
      "cell_type": "markdown",
      "metadata": {
        "id": "TDtx2dRRaXBV"
      },
      "source": [
        "문제276. 스티브 잡스 연설문에는 긍정단어가 몇개가 있는지 확인하세요"
      ]
    },
    {
      "cell_type": "code",
      "metadata": {
        "colab": {
          "base_uri": "https://localhost:8080/"
        },
        "id": "Io3MBiyRaZd5",
        "outputId": "7161a6ac-dc11-4a7d-b209-4417fadd5bd2"
      },
      "source": [
        "stev = open('/content/drive/MyDrive/data/jobs.txt')\r\n",
        "stev2 = stev.read().split()          # 리스트\r\n",
        "postive = open('/content/drive/MyDrive/data/positive-words.txt')\r\n",
        "pos = postive.read().split('\\n')     # 리스트\r\n",
        "cnt = 0\r\n",
        "\r\n",
        "for k in stev2:\r\n",
        "    if k.lower() in pos:\r\n",
        "        cnt += 1\r\n",
        "\r\n",
        "print(cnt)"
      ],
      "execution_count": 62,
      "outputs": [
        {
          "output_type": "stream",
          "text": [
            "68\n"
          ],
          "name": "stdout"
        }
      ]
    },
    {
      "cell_type": "markdown",
      "metadata": {
        "id": "eA_Xva7-axQg"
      },
      "source": [
        ""
      ]
    },
    {
      "cell_type": "markdown",
      "metadata": {
        "id": "A-xrA0E4axJu"
      },
      "source": [
        ""
      ]
    },
    {
      "cell_type": "markdown",
      "metadata": {
        "id": "I4LD0dHEaxA-"
      },
      "source": [
        "■ 87. 문자열에서 대소문자 변환하기(upper, lower)\r\n",
        "\r\n",
        "문자열 객체의 upper() 메소드는 문자열에 있는 모든 알파벳을 대문자로 변환한 결과를 리턴합니다.  \r\n",
        "문자열 객체의 lower() 메소드는 문자열에 있는 모든 알파벳을 소문자로 변환한 결과를 리턴합니다.\r\n",
        "\r\n",
        "예제:"
      ]
    },
    {
      "cell_type": "code",
      "metadata": {
        "colab": {
          "base_uri": "https://localhost:8080/"
        },
        "id": "hAzrI_x5a10C",
        "outputId": "2490afe3-fe51-489b-e5a4-85385ac51cc2"
      },
      "source": [
        "txt = 'A lot of things occur each day'\r\n",
        "result1 = txt.upper()\r\n",
        "result2 = txt.lower()\r\n",
        "print(result1)\r\n",
        "print(result2) "
      ],
      "execution_count": 63,
      "outputs": [
        {
          "output_type": "stream",
          "text": [
            "A LOT OF THINGS OCCUR EACH DAY\n",
            "a lot of things occur each day\n"
          ],
          "name": "stdout"
        }
      ]
    },
    {
      "cell_type": "markdown",
      "metadata": {
        "id": "A6VdnDV6a6D5"
      },
      "source": [
        ""
      ]
    },
    {
      "cell_type": "markdown",
      "metadata": {
        "id": "bxas0UeCa57Q"
      },
      "source": [
        ""
      ]
    },
    {
      "cell_type": "markdown",
      "metadata": {
        "id": "bgOdRcVGa5yr"
      },
      "source": [
        "문제277. emp2.csv 에서 이름과 월급을 출력하시오 !"
      ]
    },
    {
      "cell_type": "code",
      "metadata": {
        "colab": {
          "base_uri": "https://localhost:8080/"
        },
        "id": "6xrYET8ba6mF",
        "outputId": "369a57b5-92bc-4a99-833a-7ca0a935b4f4"
      },
      "source": [
        "import csv\r\n",
        "\r\n",
        "file = open('/content/drive/MyDrive/data/emp2.csv')\r\n",
        "emp_csv = csv.reader(file)\r\n",
        "\r\n",
        "for emp_list in emp_csv:\r\n",
        "    print( emp_list[1], emp_list[5] )"
      ],
      "execution_count": 64,
      "outputs": [
        {
          "output_type": "stream",
          "text": [
            "KING 5000\n",
            "BLAKE 2850\n",
            "CLARK 2450\n",
            "JONES 2975\n",
            "MARTIN 1250\n",
            "ALLEN 1600\n",
            "TURNER 1500\n",
            "JAMES 950\n",
            "WARD 1250\n",
            "FORD 3000\n",
            "SMITH 800\n",
            "SCOTT 3000\n",
            "ADAMS 1100\n",
            "MILLER 1300\n"
          ],
          "name": "stdout"
        }
      ]
    },
    {
      "cell_type": "markdown",
      "metadata": {
        "id": "hB59bwArbJvF"
      },
      "source": [
        ""
      ]
    },
    {
      "cell_type": "markdown",
      "metadata": {
        "id": "DPJUSWpGbJmq"
      },
      "source": [
        ""
      ]
    },
    {
      "cell_type": "markdown",
      "metadata": {
        "id": "Hqnu62LebJf1"
      },
      "source": [
        "문제278. 이름을 물어보게하고 이름을 입력하면 해당 사원의 이름과 월급이 출력되게하는데 소문자로 입력하던 대문자로 입력하던 잘 출력되게 하시오\r\n",
        "\r\n",
        "    이름을 입력하세요 ~ scott\r\n",
        "    SCOTT 3000"
      ]
    },
    {
      "cell_type": "code",
      "metadata": {
        "colab": {
          "base_uri": "https://localhost:8080/"
        },
        "id": "tBAVu3G3bOWR",
        "outputId": "d64a25bb-af1c-42db-9266-e01246807480"
      },
      "source": [
        "import csv\r\n",
        "\r\n",
        "file = open('/content/drive/MyDrive/data/emp2.csv')\r\n",
        "emp_csv = csv.reader(file)\r\n",
        "\r\n",
        "name = input('이름을 입력하세요 ~ ')\r\n",
        "\r\n",
        "for emp_list in emp_csv:\r\n",
        "    if emp_list[1] == name.upper():\r\n",
        "        print( emp_list[1], emp_list[5] )"
      ],
      "execution_count": 66,
      "outputs": [
        {
          "output_type": "stream",
          "text": [
            "이름을 입력하세요 ~ scott\n",
            "SCOTT 3000\n"
          ],
          "name": "stdout"
        }
      ]
    },
    {
      "cell_type": "markdown",
      "metadata": {
        "id": "1rDZFXPZbfrG"
      },
      "source": [
        ""
      ]
    },
    {
      "cell_type": "markdown",
      "metadata": {
        "id": "r3-OLHaFbfiV"
      },
      "source": [
        ""
      ]
    },
    {
      "cell_type": "markdown",
      "metadata": {
        "id": "9zUIOY84bfal"
      },
      "source": [
        "**■ 88. 문자열에서 좌우 공백 제거하기(lstrip, rstrip, strip)**\r\n",
        "\r\n",
        "    함수\t   \t설명\r\n",
        "    lstrip\t문자열에서 존재하는 왼쪽 공백을 제거\r\n",
        "    rstrip\t문자열에서 존재하는 오른쪽 공백을 제거\r\n",
        "    strip\t 문자열에서 존재하는 양쪽 공백을 제거\r\n",
        "\r\n",
        "예제:"
      ]
    },
    {
      "cell_type": "code",
      "metadata": {
        "colab": {
          "base_uri": "https://localhost:8080/"
        },
        "id": "IfQqcTwObWi0",
        "outputId": "77581721-84c9-4bc1-f243-056db36a3117"
      },
      "source": [
        "txt7 = '     양쪽에 공백이 있는 문자열 입니다.     '\r\n",
        "print( txt7.lstrip() )\r\n",
        "print( txt7.rstrip() )\r\n",
        "print( txt7.strip() )"
      ],
      "execution_count": 67,
      "outputs": [
        {
          "output_type": "stream",
          "text": [
            "양쪽에 공백이 있는 문자열 입니다.     \n",
            "     양쪽에 공백이 있는 문자열 입니다.\n",
            "양쪽에 공백이 있는 문자열 입니다.\n"
          ],
          "name": "stdout"
        }
      ]
    },
    {
      "cell_type": "markdown",
      "metadata": {
        "id": "fgt7VUrebt-8"
      },
      "source": [
        ""
      ]
    },
    {
      "cell_type": "markdown",
      "metadata": {
        "id": "dRW2mJQTbt4j"
      },
      "source": [
        ""
      ]
    },
    {
      "cell_type": "markdown",
      "metadata": {
        "id": "53bseGo6btub"
      },
      "source": [
        "문제279. 스티브 잡스 연설문에서는 정관사 the 가 몇번 나오는가?"
      ]
    },
    {
      "cell_type": "code",
      "metadata": {
        "colab": {
          "base_uri": "https://localhost:8080/"
        },
        "id": "sQpYyOBxbs3d",
        "outputId": "c744c29a-4065-4670-8355-6f03d8c4830c"
      },
      "source": [
        "stev = open('/content/drive/MyDrive/data/jobs.txt')\r\n",
        "stev2 = stev.read().split()\r\n",
        "cnt = 0\r\n",
        "\r\n",
        "for i in stev2:\r\n",
        "    if i.lower() == 'the':\r\n",
        "        cnt += 1\r\n",
        "\r\n",
        "print(cnt)"
      ],
      "execution_count": 68,
      "outputs": [
        {
          "output_type": "stream",
          "text": [
            "98\n"
          ],
          "name": "stdout"
        }
      ]
    },
    {
      "cell_type": "markdown",
      "metadata": {
        "id": "_RlCpTgacFKm"
      },
      "source": [
        ""
      ]
    },
    {
      "cell_type": "markdown",
      "metadata": {
        "id": "FHRUGXROcFBs"
      },
      "source": [
        ""
      ]
    },
    {
      "cell_type": "markdown",
      "metadata": {
        "id": "OJ0kVJkUcE6M"
      },
      "source": [
        "**■ 89. 문자열에서 문자 개수 구하기 (count)**\r\n",
        "\r\n",
        "문자열 객체의 count() 메소드는 문자열에서 특정 문자의 갯수를 리턴합니다.\r\n"
      ]
    },
    {
      "cell_type": "code",
      "metadata": {
        "colab": {
          "base_uri": "https://localhost:8080/"
        },
        "id": "E9wdYFAIcIfL",
        "outputId": "1846f0b9-84a1-4c34-904a-bc14522f9bda"
      },
      "source": [
        "txt = 'A lot of things occur each day. Today is beautiful day'\r\n",
        "print( txt.count('day') ) "
      ],
      "execution_count": 69,
      "outputs": [
        {
          "output_type": "stream",
          "text": [
            "3\n"
          ],
          "name": "stdout"
        }
      ]
    },
    {
      "cell_type": "markdown",
      "metadata": {
        "id": "9PWd6E8hcLy3"
      },
      "source": [
        ""
      ]
    },
    {
      "cell_type": "markdown",
      "metadata": {
        "id": "w8QLzzBwcLqB"
      },
      "source": [
        ""
      ]
    },
    {
      "cell_type": "markdown",
      "metadata": {
        "id": "VD7t_EUNcLhP"
      },
      "source": [
        "문제280. 안철수 연설문에서는 국민 이라는 단어가 몇번 나오는지 카운트 하시오! (ahn.txt)"
      ]
    },
    {
      "cell_type": "code",
      "metadata": {
        "colab": {
          "base_uri": "https://localhost:8080/"
        },
        "id": "e6cUH6UucNmP",
        "outputId": "23a3bef5-9c1f-4415-c84c-b3e8561a7331"
      },
      "source": [
        "ahn = open('/content/drive/MyDrive/data/ahn.txt')\r\n",
        "ahn2 = ahn.read()\r\n",
        "#print(ahn2)\r\n",
        "print( ahn2.count('국민') )"
      ],
      "execution_count": 71,
      "outputs": [
        {
          "output_type": "stream",
          "text": [
            "22\n"
          ],
          "name": "stdout"
        }
      ]
    },
    {
      "cell_type": "markdown",
      "metadata": {
        "id": "edwF_Pvlcm1H"
      },
      "source": [
        ""
      ]
    },
    {
      "cell_type": "markdown",
      "metadata": {
        "id": "sx4-kNn6cmrz"
      },
      "source": [
        ""
      ]
    },
    {
      "cell_type": "markdown",
      "metadata": {
        "id": "M5oMggarcmk1"
      },
      "source": [
        "**■ 파이썬에서 막대 그래프 그리는 방법**"
      ]
    },
    {
      "cell_type": "code",
      "metadata": {
        "colab": {
          "base_uri": "https://localhost:8080/",
          "height": 267
        },
        "id": "t34zpDNXct1g",
        "outputId": "dd0cfe2b-d354-42e9-fbc9-8f3eea9771e9"
      },
      "source": [
        "import matplotlib.pyplot as plt\r\n",
        "\r\n",
        "y_value = [ 21.6, 23.6, 45.8, 77.0 ]\r\n",
        "x_index = [ 0, 1, 2, 3 ]\r\n",
        "\r\n",
        "plt.bar( x_index, y_value )\r\n",
        "plt.show()"
      ],
      "execution_count": 73,
      "outputs": [
        {
          "output_type": "display_data",
          "data": {
            "image/png": "[encoded data removed]",
            "text/plain": [
              "<Figure size 432x288 with 1 Axes>"
            ]
          },
          "metadata": {
            "tags": [],
            "needs_background": "light"
          }
        }
      ]
    },
    {
      "cell_type": "markdown",
      "metadata": {
        "id": "8DrVIbKgcwlb"
      },
      "source": [
        ""
      ]
    },
    {
      "cell_type": "markdown",
      "metadata": {
        "id": "3wgY-92Tcwa_"
      },
      "source": [
        ""
      ]
    },
    {
      "cell_type": "code",
      "metadata": {
        "colab": {
          "base_uri": "https://localhost:8080/",
          "height": 267
        },
        "id": "-lGfOrvxcxCp",
        "outputId": "e2271331-c4f4-471a-a6a0-fa4a4e48248d"
      },
      "source": [
        "import matplotlib.pyplot as plt\r\n",
        "\r\n",
        "y_value = [ 21.6, 23.6, 45.8, 77.0 ]\r\n",
        "x_index = [ 0, 1, 2, 3 ]\r\n",
        "\r\n",
        "plt.bar( x_index, y_value, color = 'red' )   # color 옵션으로 막대그래프 색깔 지정\r\n",
        "plt.show()"
      ],
      "execution_count": 74,
      "outputs": [
        {
          "output_type": "display_data",
          "data": {
            "image/png": "[encoded data removed]",
            "text/plain": [
              "<Figure size 432x288 with 1 Axes>"
            ]
          },
          "metadata": {
            "tags": [],
            "needs_background": "light"
          }
        }
      ]
    },
    {
      "cell_type": "markdown",
      "metadata": {
        "id": "TUacmPFxc4J5"
      },
      "source": [
        ""
      ]
    },
    {
      "cell_type": "markdown",
      "metadata": {
        "id": "BT_tA_0kc4Cn"
      },
      "source": [
        ""
      ]
    },
    {
      "cell_type": "markdown",
      "metadata": {
        "id": "GiD9yVocc36l"
      },
      "source": [
        "문제281. 동전을 10번 던져서 앞면이 0~2개가 나오는 확률 4개를 가지고 막대그래프를 그리시오!"
      ]
    },
    {
      "cell_type": "code",
      "metadata": {
        "colab": {
          "base_uri": "https://localhost:8080/",
          "height": 265
        },
        "id": "r8NFLXt1c6Ju",
        "outputId": "083eb75e-18ea-4bb0-c4df-3b87a52d2405"
      },
      "source": [
        "import matplotlib.pyplot as plt\r\n",
        "\r\n",
        "y_value = [ 0.00191, 0.01, 0.07, 0.16 ]\r\n",
        "x_index = [ 0, 1, 2, 3 ]\r\n",
        "\r\n",
        "plt.bar( x_index, y_value, color = 'red' )\r\n",
        "plt.show()"
      ],
      "execution_count": 75,
      "outputs": [
        {
          "output_type": "display_data",
          "data": {
            "image/png": "[encoded data removed]",
            "text/plain": [
              "<Figure size 432x288 with 1 Axes>"
            ]
          },
          "metadata": {
            "tags": [],
            "needs_background": "light"
          }
        }
      ]
    },
    {
      "cell_type": "markdown",
      "metadata": {
        "id": "SJRDMNdlfgf5"
      },
      "source": [
        ""
      ]
    },
    {
      "cell_type": "markdown",
      "metadata": {
        "id": "Oy-4HF-TfgWC"
      },
      "source": [
        ""
      ]
    },
    {
      "cell_type": "markdown",
      "metadata": {
        "id": "ut-AU-fhfgMj"
      },
      "source": [
        "문제282. 위의 그래프의 결과에 제목, x축 라벨과 y축 라벨을 같이 출력하시오"
      ]
    },
    {
      "cell_type": "code",
      "metadata": {
        "colab": {
          "base_uri": "https://localhost:8080/",
          "height": 295
        },
        "id": "y0i5E_QVflZ1",
        "outputId": "96d169c4-f009-4908-b906-5cdcce2ebbb2"
      },
      "source": [
        "import matplotlib.pyplot as plt\r\n",
        "\r\n",
        "y_value = [ 0.00191, 0.01, 0.07, 0.16 ]\r\n",
        "x_index = [ 0, 1, 2, 3 ]\r\n",
        "\r\n",
        "plt.bar( x_index, y_value, color = 'red' )\r\n",
        "plt.title('coin Probability')   # 그래프 제목\r\n",
        "plt.xlabel('cnt')               # 그래프 x축 라벨\r\n",
        "plt.ylabel('Probability')       # 그래프 y축 라벨\r\n",
        "\r\n",
        "plt.show()"
      ],
      "execution_count": 76,
      "outputs": [
        {
          "output_type": "display_data",
          "data": {
            "image/png": "[encoded data removed]",
            "text/plain": [
              "<Figure size 432x288 with 1 Axes>"
            ]
          },
          "metadata": {
            "tags": [],
            "needs_background": "light"
          }
        }
      ]
    },
    {
      "cell_type": "markdown",
      "metadata": {
        "id": "cM27fPHtf1wd"
      },
      "source": [
        ""
      ]
    },
    {
      "cell_type": "markdown",
      "metadata": {
        "id": "g3jZRvjwf1mc"
      },
      "source": [
        ""
      ]
    },
    {
      "cell_type": "markdown",
      "metadata": {
        "id": "QgsUj00Cf1c8"
      },
      "source": [
        "문제283. 220번 문제인 동전을 10번 던져서 앞면이 2개 나오는 아래의 확률 결과를 가지고 막대그래프로 시각화 하시오!"
      ]
    },
    {
      "cell_type": "code",
      "metadata": {
        "colab": {
          "base_uri": "https://localhost:8080/",
          "height": 295
        },
        "id": "f7IrZqI6f5Qw",
        "outputId": "5f0cbe4d-0940-4698-9eba-4ca6aec315ec"
      },
      "source": [
        "import matplotlib.pyplot as plt\r\n",
        "\r\n",
        "def coin_prob(num):\r\n",
        "    import random\r\n",
        "    coin = [ '앞면', '뒷면' ]\r\n",
        "    cnt = 0\r\n",
        "    for k in range(1, 10001):\r\n",
        "        a = []\r\n",
        "        for i in range(1, 11):\r\n",
        "            result = random.choice(coin)\r\n",
        "            a.append(result)\r\n",
        "        if a.count('앞면') == num:\r\n",
        "            cnt += 1\r\n",
        "    return cnt/10000\r\n",
        "\r\n",
        "x = []\r\n",
        "y = []\r\n",
        "for j in range(0, 11):\r\n",
        "    x.append(j)\r\n",
        "    y.append(coin_prob(j))\r\n",
        "\r\n",
        "plt.bar(x, y, color = 'green')\r\n",
        "plt.title('coin Probability')\r\n",
        "plt.xlabel('cnt')\r\n",
        "plt.ylabel('Probability')\r\n",
        "\r\n",
        "plt.show()"
      ],
      "execution_count": 79,
      "outputs": [
        {
          "output_type": "display_data",
          "data": {
            "image/png": "[encoded data removed]",
            "text/plain": [
              "<Figure size 432x288 with 1 Axes>"
            ]
          },
          "metadata": {
            "tags": [],
            "needs_background": "light"
          }
        }
      ]
    }
  ]
}