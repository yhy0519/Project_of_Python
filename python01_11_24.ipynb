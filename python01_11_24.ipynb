{
  "nbformat": 4,
  "nbformat_minor": 0,
  "metadata": {
    "colab": {
      "name": "python1_11.24.ipynb",
      "provenance": [],
      "collapsed_sections": [],
      "authorship_tag": "ABX9TyOxUNt71zdh/TcG7TWYB4uh",
      "include_colab_link": true
    },
    "kernelspec": {
      "name": "python3",
      "display_name": "Python 3"
    }
  },
  "cells": [
    {
      "cell_type": "markdown",
      "metadata": {
        "id": "view-in-github",
        "colab_type": "text"
      },
      "source": [
        "<a href=\"https://colab.research.google.com/github/yhy0519/Project_of_Python/blob/main/python01_11_24.ipynb\" target=\"_parent\"><img src=\"https://colab.research.google.com/assets/colab-badge.svg\" alt=\"Open In Colab\"/></a>"
      ]
    },
    {
      "cell_type": "markdown",
      "metadata": {
        "id": "6lHVu_f3IJAT"
      },
      "source": [
        "**■ 1. 대화식 모드로 프로그래밍 하기**\n",
        "\n",
        "** 파이썬을 실행하는 방법 2가지\n",
        " 1. 대화식 모드 : 한라인 한라인씩 실행하는 모드\n",
        " anaconde prompt 에서 한줄 한줄 실행"
      ]
    },
    {
      "cell_type": "code",
      "metadata": {
        "colab": {
          "base_uri": "https://localhost:8080/"
        },
        "id": "FtGJIgcFsrXp",
        "outputId": "c436298d-3b9a-44fc-d899-7853bc352328"
      },
      "source": [
        ">>> a = 1\n",
        ">>> b = 2\n",
        ">>> a + b"
      ],
      "execution_count": null,
      "outputs": [
        {
          "output_type": "execute_result",
          "data": {
            "text/plain": [
              "3"
            ]
          },
          "metadata": {
            "tags": []
          },
          "execution_count": 12
        }
      ]
    },
    {
      "cell_type": "markdown",
      "metadata": {
        "id": "qvh-PDhDi0Xz"
      },
      "source": [
        ""
      ]
    },
    {
      "cell_type": "markdown",
      "metadata": {
        "id": "K3AM_peItPew"
      },
      "source": [
        " 2. 배치 모드 : 여러개의 스크립트로 작성해서 한번에 실행하는 모드 (전체선택 ctrl+ enter)\n",
        " 스파이더에서 아래와 같이 스크립트를 적어주고 전체선택한 후에 ctrl + enter 로 실행한 것"
      ]
    },
    {
      "cell_type": "code",
      "metadata": {
        "colab": {
          "base_uri": "https://localhost:8080/"
        },
        "id": "LoMWGQmjtU6Y",
        "outputId": "898e506c-8449-4206-a897-35e888938baf"
      },
      "source": [
        "a = 1\n",
        "b = 1\n",
        "print(a+b)"
      ],
      "execution_count": null,
      "outputs": [
        {
          "output_type": "stream",
          "text": [
            "2\n"
          ],
          "name": "stdout"
        }
      ]
    },
    {
      "cell_type": "markdown",
      "metadata": {
        "id": "otoSQCBJi1MG"
      },
      "source": [
        ""
      ]
    },
    {
      "cell_type": "markdown",
      "metadata": {
        "id": "VErBvC69i05g"
      },
      "source": [
        ""
      ]
    },
    {
      "cell_type": "markdown",
      "metadata": {
        "id": "F4z_0MhexXei"
      },
      "source": [
        "문제1. 아래의 스크립트를 배치모드로 실행하시오 !"
      ]
    },
    {
      "cell_type": "code",
      "metadata": {
        "colab": {
          "base_uri": "https://localhost:8080/"
        },
        "id": "LNtB3UWTxdlK",
        "outputId": "b9b3a54d-220a-4b8d-b23a-3609da084bc3"
      },
      "source": [
        " for i in [ 1, 2, 3, 4, 5, 6, 7 ]:\n",
        "   print(i)"
      ],
      "execution_count": null,
      "outputs": [
        {
          "output_type": "stream",
          "text": [
            "1\n",
            "2\n",
            "3\n",
            "4\n",
            "5\n",
            "6\n",
            "7\n"
          ],
          "name": "stdout"
        }
      ]
    },
    {
      "cell_type": "markdown",
      "metadata": {
        "id": "LDOqRZeWxjkK"
      },
      "source": [
        "(spyder 창에서 #%% 입력하면 코드별로 실행 가능)"
      ]
    },
    {
      "cell_type": "markdown",
      "metadata": {
        "id": "52HkmELUi2En"
      },
      "source": [
        ""
      ]
    },
    {
      "cell_type": "markdown",
      "metadata": {
        "id": "iOVSUA2Zi1w3"
      },
      "source": [
        ""
      ]
    },
    {
      "cell_type": "markdown",
      "metadata": {
        "id": "XDq66DdByOai"
      },
      "source": [
        "**■ 2. 텍스트 에디터로 프로그래밍하기**\n",
        "\n",
        "spyder 와 같은 텍스트 창에서 프로그램 코드를 작성하는것을 말한다.  \n",
        "spyder 프로그램에서 ctrl + enter 키로 코드를 실행하거나 F5를 누르면 실행된다."
      ]
    },
    {
      "cell_type": "markdown",
      "metadata": {
        "id": "Jq6ASZ5ai5QJ"
      },
      "source": [
        ""
      ]
    },
    {
      "cell_type": "markdown",
      "metadata": {
        "id": "EKdmSi8ri5Fo"
      },
      "source": [
        ""
      ]
    },
    {
      "cell_type": "markdown",
      "metadata": {
        "id": "LV0xgyJ0y6xt"
      },
      "source": [
        "문제2. 아래와 같은 결과가 나오게 spyder 에서 프로그래밍 하시오!  \n",
        "2  \n",
        "3  \n",
        "4"
      ]
    },
    {
      "cell_type": "code",
      "metadata": {
        "colab": {
          "base_uri": "https://localhost:8080/"
        },
        "id": "0-vr0sWNy5vq",
        "outputId": "7449278b-8365-45c4-9429-dac58184648d"
      },
      "source": [
        "for i in [ 2, 3, 4 ]:\n",
        "  print(i)"
      ],
      "execution_count": null,
      "outputs": [
        {
          "output_type": "stream",
          "text": [
            "2\n",
            "3\n",
            "4\n"
          ],
          "name": "stdout"
        }
      ]
    },
    {
      "cell_type": "markdown",
      "metadata": {
        "id": "k1ibIkeji6Hz"
      },
      "source": [
        ""
      ]
    },
    {
      "cell_type": "markdown",
      "metadata": {
        "id": "wrrYP89mi5yW"
      },
      "source": [
        ""
      ]
    },
    {
      "cell_type": "markdown",
      "metadata": {
        "id": "cCbX078az0-O"
      },
      "source": [
        "**■ 3. 변수명 만들기**\n",
        "\n",
        " \" 어떤값을 임시로 저장하는 변수의 이름을 만드는 방법과 규칙을 배웁니다 \"\n",
        "\n",
        " 예:\n",
        "\n",
        "    a = 1\n",
        "\n",
        " 설명: a 라는 변수에 숫자 1을 할당한다.\n",
        "\n",
        " 예:\n",
        "\n",
        "    a = 1  \n",
        "    b = 1  \n",
        "    print(a + b)\n",
        "\n",
        "※ 변수 이름을 생성할 때 주의할 사항\n",
        " 1. 변수 이름에는 다음 문자만 사용할 수 있습니다.\n",
        "  - 소문자(a~z)\n",
        "  - 대문자(A~Z)\n",
        "  - 숫자(0~9)\n",
        "  - 언더스코어(_)\n",
        " 2. 변수 이름은 숫자로 시작할 수 없습니다. (문자로 시작해야합니다.)\n",
        " 3. 예약어를 사용할 수 없습니다. (예약어: 파이썬에서 이미 사용되고 있는 단어  \n",
        " 예: True, False, class, is, return"
      ]
    },
    {
      "cell_type": "markdown",
      "metadata": {
        "id": "6zUWp4hYjC8z"
      },
      "source": [
        ""
      ]
    },
    {
      "cell_type": "markdown",
      "metadata": {
        "id": "PhJylI5CjCjG"
      },
      "source": [
        ""
      ]
    },
    {
      "cell_type": "markdown",
      "metadata": {
        "id": "gAiPCMkd0wXe"
      },
      "source": [
        "문제3. 파이썬의 예약어가 무엇이 있는지 확인하시오!"
      ]
    },
    {
      "cell_type": "code",
      "metadata": {
        "colab": {
          "base_uri": "https://localhost:8080/"
        },
        "id": "9KB0E62B043s",
        "outputId": "5819395a-bf5a-4788-eada-b776cf7406d4"
      },
      "source": [
        "import keyword\n",
        "print(keyword.kwlist)"
      ],
      "execution_count": null,
      "outputs": [
        {
          "output_type": "stream",
          "text": [
            "['False', 'None', 'True', 'and', 'as', 'assert', 'break', 'class', 'continue', 'def', 'del', 'elif', 'else', 'except', 'finally', 'for', 'from', 'global', 'if', 'import', 'in', 'is', 'lambda', 'nonlocal', 'not', 'or', 'pass', 'raise', 'return', 'try', 'while', 'with', 'yield']\n"
          ],
          "name": "stdout"
        }
      ]
    },
    {
      "cell_type": "markdown",
      "metadata": {
        "id": "rPA3EzonjDt3"
      },
      "source": [
        ""
      ]
    },
    {
      "cell_type": "markdown",
      "metadata": {
        "id": "dPnPUWOVjDbO"
      },
      "source": [
        ""
      ]
    },
    {
      "cell_type": "markdown",
      "metadata": {
        "id": "DZxaMKrz0--V"
      },
      "source": [
        "문제4. 위의 예약어를 변수로 사용하면 에러가 나는지 직접 테스트 하시오!"
      ]
    },
    {
      "cell_type": "code",
      "metadata": {
        "colab": {
          "base_uri": "https://localhost:8080/",
          "height": 134
        },
        "id": "O33_rQYC0-mu",
        "outputId": "a1125dd0-5920-4376-b9e7-e7a538c86bf0"
      },
      "source": [
        "and = 1"
      ],
      "execution_count": null,
      "outputs": [
        {
          "output_type": "error",
          "ename": "SyntaxError",
          "evalue": "ignored",
          "traceback": [
            "\u001b[0;36m  File \u001b[0;32m\"<ipython-input-17-a3fd417c5b1e>\"\u001b[0;36m, line \u001b[0;32m1\u001b[0m\n\u001b[0;31m    and = 1\u001b[0m\n\u001b[0m      ^\u001b[0m\n\u001b[0;31mSyntaxError\u001b[0m\u001b[0;31m:\u001b[0m invalid syntax\n"
          ]
        }
      ]
    },
    {
      "cell_type": "markdown",
      "metadata": {
        "id": "9HKmHg6cjErL"
      },
      "source": [
        ""
      ]
    },
    {
      "cell_type": "markdown",
      "metadata": {
        "id": "OnrOWl8OjEO7"
      },
      "source": [
        ""
      ]
    },
    {
      "cell_type": "markdown",
      "metadata": {
        "id": "WmGdK9o_1F_1"
      },
      "source": [
        "**■ 4. 변수에 값 대입하기**\n",
        "\n",
        "다양한 값을 변수에 대입하는 방법을 배웁니다.\n",
        "파이썬은 변수에 값을 대입할 때 = (assingment) 기호를 사용합니다.\n",
        "\n",
        " 예제:\n",
        "\n",
        "    a = 1  \n",
        "    b = 'scott'  \n",
        "    print(b)\n",
        "\n",
        " 다른 프로그램 언어에서는 아래와 같이 좀 더 복잡한 코드로 작성해야한다.\n",
        "\n",
        "    b varchar2(10) := 'scott';\n",
        "\n",
        " 파이썬의 코드는 심플함을 철학으로 삼고 있습니다.  \n",
        " 파이썬의 기본 철학을 확인하는 방법"
      ]
    },
    {
      "cell_type": "code",
      "metadata": {
        "colab": {
          "base_uri": "https://localhost:8080/"
        },
        "id": "sz7DHi0s2G7e",
        "outputId": "b25be900-557d-4e4d-b57d-1c5c982c357b"
      },
      "source": [
        "import this"
      ],
      "execution_count": null,
      "outputs": [
        {
          "output_type": "stream",
          "text": [
            "The Zen of Python, by Tim Peters\n",
            "\n",
            "Beautiful is better than ugly.\n",
            "Explicit is better than implicit.\n",
            "Simple is better than complex.\n",
            "Complex is better than complicated.\n",
            "Flat is better than nested.\n",
            "Sparse is better than dense.\n",
            "Readability counts.\n",
            "Special cases aren't special enough to break the rules.\n",
            "Although practicality beats purity.\n",
            "Errors should never pass silently.\n",
            "Unless explicitly silenced.\n",
            "In the face of ambiguity, refuse the temptation to guess.\n",
            "There should be one-- and preferably only one --obvious way to do it.\n",
            "Although that way may not be obvious at first unless you're Dutch.\n",
            "Now is better than never.\n",
            "Although never is often better than *right* now.\n",
            "If the implementation is hard to explain, it's a bad idea.\n",
            "If the implementation is easy to explain, it may be a good idea.\n",
            "Namespaces are one honking great idea -- let's do more of those!\n"
          ],
          "name": "stdout"
        }
      ]
    },
    {
      "cell_type": "markdown",
      "metadata": {
        "id": "TkdsSwM2jSyv"
      },
      "source": [
        ""
      ]
    },
    {
      "cell_type": "markdown",
      "metadata": {
        "id": "vI-5V0kT2KfK"
      },
      "source": [
        "파이썬은 c/c++, java 와는 달리 변수를 선언할 때 숫자형 자료인지 문자형 자료인지  \n",
        "자료형을 명시하지 않아도 됩니다.\n",
        "\n",
        "          PL/SQL             vs     파이썬\n",
        "      a number(10) := 2;             a = 2"
      ]
    },
    {
      "cell_type": "markdown",
      "metadata": {
        "id": "g-5bVl5FjQkF"
      },
      "source": [
        ""
      ]
    },
    {
      "cell_type": "markdown",
      "metadata": {
        "id": "NO0XIqgcjQWn"
      },
      "source": [
        ""
      ]
    },
    {
      "cell_type": "markdown",
      "metadata": {
        "id": "hFlHJY-E9FbL"
      },
      "source": [
        "문제5. 변수의 자료형을 확인하시오! (문자형, 숫자형)"
      ]
    },
    {
      "cell_type": "code",
      "metadata": {
        "colab": {
          "base_uri": "https://localhost:8080/"
        },
        "id": "1xTMYlaK9bRl",
        "outputId": "00fe8710-8d69-4f58-ac1c-bbd78638cf16"
      },
      "source": [
        "b = 'scott'\n",
        "print(b)\n",
        "print( type(b) )"
      ],
      "execution_count": null,
      "outputs": [
        {
          "output_type": "stream",
          "text": [
            "scott\n",
            "<class 'str'>\n"
          ],
          "name": "stdout"
        }
      ]
    },
    {
      "cell_type": "markdown",
      "metadata": {
        "id": "1SyYjWVPjUhu"
      },
      "source": [
        ""
      ]
    },
    {
      "cell_type": "markdown",
      "metadata": {
        "id": "zO2G8vW-jUZK"
      },
      "source": [
        ""
      ]
    },
    {
      "cell_type": "markdown",
      "metadata": {
        "id": "d_a-prjn9mQj"
      },
      "source": [
        "문제6. 숫자형 변수의 자료형을 확인하시오 !"
      ]
    },
    {
      "cell_type": "code",
      "metadata": {
        "colab": {
          "base_uri": "https://localhost:8080/"
        },
        "id": "EzoVeB7r9oCb",
        "outputId": "cf81d61e-69c5-483a-c325-62b47047f15a"
      },
      "source": [
        "a = 2\n",
        "print( type(a) )"
      ],
      "execution_count": null,
      "outputs": [
        {
          "output_type": "stream",
          "text": [
            "<class 'int'>\n"
          ],
          "name": "stdout"
        }
      ]
    },
    {
      "cell_type": "markdown",
      "metadata": {
        "id": "SKVHsEIsjVav"
      },
      "source": [
        ""
      ]
    },
    {
      "cell_type": "markdown",
      "metadata": {
        "id": "DM5oozZ9jVFf"
      },
      "source": [
        ""
      ]
    },
    {
      "cell_type": "markdown",
      "metadata": {
        "id": "ikNHinvM9v8O"
      },
      "source": [
        "**■ 5. 주석 처리하기(#)**\n",
        "\n",
        "프로그램에서 주석부분은 인터프리터에 의해 무시되는 텍스트의 한 부분입니다.  \n",
        "코드를 설명하거나 나중에 어떤 문제를 고치기 위해 표시하는 등 다양한 목적으로 주석을 사용할 수 있습니다.  \n",
        "코드를 작성할 때 주석을 잘 작성해두면 차후에 코드를 다시 보거나 타인이 코드를 검토할 때  매우 중요한 정보로 활용이 될 수 있습니다.  \n",
        "그래서 주석을 항상 달아주는 습관을 가지는것이 좋습니다.\n",
        "\n",
        "예제:\n",
        " 1. 한줄주석  \n",
        "\n",
        "        a = 1     # 변수 a에 숫자 1을 할당합니다.  \n",
        "        print(a)  #  a 의 결과를 출력합니다.\n",
        "\n",
        " 2. 여러줄 주석\n",
        "\n",
        "        \"\"\" 아래의 프로그램은 a 변수에 1을 할당해서 프린트하는  \n",
        "         프로그램 입니다. \"\"\"  \n",
        "        a = 1  \n",
        "        print(a)\n"
      ]
    },
    {
      "cell_type": "markdown",
      "metadata": {
        "id": "mL-da1RrjnO7"
      },
      "source": [
        ""
      ]
    },
    {
      "cell_type": "markdown",
      "metadata": {
        "id": "RGeSaAkpjnFb"
      },
      "source": [
        ""
      ]
    },
    {
      "cell_type": "markdown",
      "metadata": {
        "id": "YHAY40nI-EJD"
      },
      "source": [
        "**■ 6. 자료형 개념 배우기**\n",
        "\n",
        "** 파이썬에서 자주 다루게 되는 자료형이 5가지가 있습니다.\n",
        " 1. 숫자형 자료형 : 숫자를 표현하는 자료형  \n",
        "예:\n",
        "  \n",
        "        a = 1\n",
        "\n",
        " 2. 문자형 자료형 : 문자를 표현하는 자료형\n",
        " 예:\n",
        " \n",
        "        b = 'scott'\n",
        " 3. 리스트 자료형 : [] 대괄호 안에 임의 객체를 순서있게 자열한 자료형  \n",
        " 예:  \n",
        "        d = [ 1, 2, 3 ]   # 파이썬은 시작을 0 부터 시작합니다.  \n",
        "        print(d)  \n",
        "        print(d[0])        # d 리스트에서 첫번째 요소를 프린트해라 !\n",
        "\n",
        " 4. 튜플 자료형 : 리스트와 비슷하지만 요소값을 변경할 수 없다는 것이 리스트와 다른점입니다. ( 리스트보다 출력이 빠름 )   \n",
        " 결과:  \n",
        "        c = ( 1, 2, 3 )  \n",
        "        print(c)\n",
        "\n",
        " 5. 사전 자료형 : 사전 자료형은 {} 중괄호 안의 키:값 으로 된 쌍이 요소로 구성된 순서가 없는 자료형입니다. (딕셔너리)  \n",
        " 예:  \n",
        "        m = { 'i' : '나는', 'am' : '입니다', 'boy' : '소년' }  \n",
        "        print(m)"
      ]
    },
    {
      "cell_type": "markdown",
      "metadata": {
        "id": "V09HmsPlkFnC"
      },
      "source": [
        ""
      ]
    },
    {
      "cell_type": "markdown",
      "metadata": {
        "id": "qZnAHd-VkFG9"
      },
      "source": [
        ""
      ]
    },
    {
      "cell_type": "markdown",
      "metadata": {
        "id": "yW9nOyF8CNSf"
      },
      "source": [
        "문제7. 아래의 리스트에서 문자 k 를 출력하시오!  \n",
        "mmm = [ 'a', 'b', 'd', 'e', 'k', 'm', 'n', 'z' ]"
      ]
    },
    {
      "cell_type": "code",
      "metadata": {
        "colab": {
          "base_uri": "https://localhost:8080/"
        },
        "id": "_UbE9KzxBWWf",
        "outputId": "64d28751-ba9a-44b0-e023-6c97db0791a1"
      },
      "source": [
        "mmm = [ 'a', 'b', 'd', 'e', 'k', 'm', 'n', 'z' ]\n",
        "print(mmm[4])"
      ],
      "execution_count": null,
      "outputs": [
        {
          "output_type": "stream",
          "text": [
            "k\n"
          ],
          "name": "stdout"
        }
      ]
    },
    {
      "cell_type": "markdown",
      "metadata": {
        "id": "f3nRHJxEkHdF"
      },
      "source": [
        ""
      ]
    },
    {
      "cell_type": "markdown",
      "metadata": {
        "id": "pAGQARC1kHU6"
      },
      "source": [
        ""
      ]
    },
    {
      "cell_type": "markdown",
      "metadata": {
        "id": "YX15p7NvCgu2"
      },
      "source": [
        "문제8. 동전을 던져서 앞면이 나오는지 뒷면이 나오는지 확인하시오 !"
      ]
    },
    {
      "cell_type": "code",
      "metadata": {
        "colab": {
          "base_uri": "https://localhost:8080/"
        },
        "id": "HeMHk80QChPW",
        "outputId": "d99e6830-dbcc-4ef8-b9d8-3eaba8774c28"
      },
      "source": [
        "import random   # random 리나는 모듈을 이 코드에서 쓰겠다. (모듈: 특정 목적으로 만든 파이썬 코드의 집합)\n",
        "\n",
        "coin = ['앞면', '뒷면']\n",
        "print(random.choice(coin))      # random.choice() : random 모듈안의 choice 라는 함수를 이용해라"
      ],
      "execution_count": null,
      "outputs": [
        {
          "output_type": "stream",
          "text": [
            "앞면\n"
          ],
          "name": "stdout"
        }
      ]
    },
    {
      "cell_type": "markdown",
      "metadata": {
        "id": "TOUqqCVkkIOq"
      },
      "source": [
        ""
      ]
    },
    {
      "cell_type": "markdown",
      "metadata": {
        "id": "i7jvobWkkH7i"
      },
      "source": [
        ""
      ]
    },
    {
      "cell_type": "markdown",
      "metadata": {
        "id": "f9eBagBXC4ye"
      },
      "source": [
        "문제9. 위에서는 동전을 던졌는데 이번에는 주사위를 던져서 주사위의 눈이 뭐가 나오는지 확인하는 파이썬 코드를 작성하시오!"
      ]
    },
    {
      "cell_type": "code",
      "metadata": {
        "colab": {
          "base_uri": "https://localhost:8080/"
        },
        "id": "dETJHtNUC-4Z",
        "outputId": "e6df2801-8f15-48ce-bef6-7504a4b40ae1"
      },
      "source": [
        "import random\n",
        "\n",
        "dice = [ 1, 2, 3, 4, 5, 6 ]\n",
        "print(random.choice(dice))"
      ],
      "execution_count": null,
      "outputs": [
        {
          "output_type": "stream",
          "text": [
            "5\n"
          ],
          "name": "stdout"
        }
      ]
    },
    {
      "cell_type": "markdown",
      "metadata": {
        "id": "iSKuyGZtkJQu"
      },
      "source": [
        ""
      ]
    },
    {
      "cell_type": "markdown",
      "metadata": {
        "id": "yfh7N_bckIy6"
      },
      "source": [
        ""
      ]
    },
    {
      "cell_type": "markdown",
      "metadata": {
        "id": "8bl5B0BcDIRm"
      },
      "source": [
        "**■ 7. 자료형 출력 개념 배우기(print)**\n",
        "\n",
        "print 함수를 이용하면 다양한 자료형을 화면에 출력할 수 있습니다.\n",
        "\n",
        "예:  \n"
      ]
    },
    {
      "cell_type": "code",
      "metadata": {
        "colab": {
          "base_uri": "https://localhost:8080/"
        },
        "id": "9-pPMVeikMiw",
        "outputId": "2c44e1d3-6636-4efa-f574-159cfd1b26ca"
      },
      "source": [
        "a = 200  \r\n",
        "b = 'i love python'  \r\n",
        "c = [ 'a', 'b', 'c' ]  \r\n",
        "print(a)  \r\n",
        "print(b)  \r\n",
        "print(c)"
      ],
      "execution_count": 1,
      "outputs": [
        {
          "output_type": "stream",
          "text": [
            "200\n",
            "i love python\n",
            "['a', 'b', 'c']\n"
          ],
          "name": "stdout"
        }
      ]
    },
    {
      "cell_type": "markdown",
      "metadata": {
        "id": "FOa6XUbqkRD2"
      },
      "source": [
        ""
      ]
    },
    {
      "cell_type": "markdown",
      "metadata": {
        "id": "b2-ZXc7vkQ5q"
      },
      "source": [
        ""
      ]
    },
    {
      "cell_type": "markdown",
      "metadata": {
        "id": "aZ1IzjC3DcTV"
      },
      "source": [
        "**■ 8. 들여쓰기 개념 배우기**\n",
        "\n",
        "파이썬에서는 실행코드 부분을 묶어주는 () 괄호가 없습니다. 들여쓰기로 괄호를 대신합니다.  \n",
        "파이썬은 다른 프로그래밍 언어와 달리 if, for, while 등과 같은 제어문, 루프문의 실행코드 부분을 구분해주는 괄호가 없습니다.  \n",
        "대신 들여쓰기로 괄호를 대신합니다.  \n",
        "파이썬에서 제어문이나 함수이름, 클래스 이름 뒤에 콜론(:)으로 제어문, 함수이름, 클래스이름의 끝을 표시하며 콜론(:) 다음에 실행코드를 작성하는데 이때 들여쓰기를 해야합니다."
      ]
    },
    {
      "cell_type": "markdown",
      "metadata": {
        "id": "DXjdmwpqkUkA"
      },
      "source": [
        ""
      ]
    },
    {
      "cell_type": "markdown",
      "metadata": {
        "id": "80_x9MlmkT36"
      },
      "source": [
        ""
      ]
    },
    {
      "cell_type": "markdown",
      "metadata": {
        "id": "-1ZA4q3bVgjY"
      },
      "source": [
        "예제1. 실행코드를 다음라인에 작성했을 경우 "
      ]
    },
    {
      "cell_type": "code",
      "metadata": {
        "colab": {
          "base_uri": "https://localhost:8080/"
        },
        "id": "9elTaf5sVb_K",
        "outputId": "1b7909c3-ed3c-4e94-84b5-333886525685"
      },
      "source": [
        "listdata = [ 'a', 'b', 'c' ]   # listdata 라는 변수로 리스트를 생성  \n",
        "if 'a' in listdata:   # listdata 리스트 변수에 'a' 요소가 있다면 아래의 실행문을 실행해라  \n",
        "   print( 'a 가 listdata 에 있습니다.')"
      ],
      "execution_count": null,
      "outputs": [
        {
          "output_type": "stream",
          "text": [
            "a 가 listdata 에 있습니다.\n"
          ],
          "name": "stdout"
        }
      ]
    },
    {
      "cell_type": "markdown",
      "metadata": {
        "id": "Rt9OTwU_kVLG"
      },
      "source": [
        ""
      ]
    },
    {
      "cell_type": "markdown",
      "metadata": {
        "id": "YiOuJaBzkU_i"
      },
      "source": [
        ""
      ]
    },
    {
      "cell_type": "markdown",
      "metadata": {
        "id": "QegvcMTxVkKJ"
      },
      "source": [
        "예제2. 실행코드를 한 라인에 작성한 경우"
      ]
    },
    {
      "cell_type": "code",
      "metadata": {
        "colab": {
          "base_uri": "https://localhost:8080/"
        },
        "id": "5sfaQHQlVnrJ",
        "outputId": "90f5bad6-58e8-455c-935a-d2a7844bfbb7"
      },
      "source": [
        "listdata = [ 'a', 'b', 'c' ]\n",
        "if 'a' in listdata: print('a 가 listdata 에 있습니다.')"
      ],
      "execution_count": null,
      "outputs": [
        {
          "output_type": "stream",
          "text": [
            "a 가 listdata 에 있습니다.\n"
          ],
          "name": "stdout"
        }
      ]
    },
    {
      "cell_type": "markdown",
      "metadata": {
        "id": "MtUVihScVw3x"
      },
      "source": [
        "※ 설명: 콜론(:) 으로 if 문의 끝을 알린다."
      ]
    },
    {
      "cell_type": "markdown",
      "metadata": {
        "id": "U8RLQPdRkWSL"
      },
      "source": [
        ""
      ]
    },
    {
      "cell_type": "markdown",
      "metadata": {
        "id": "13lI-DmEkWAy"
      },
      "source": [
        ""
      ]
    },
    {
      "cell_type": "markdown",
      "metadata": {
        "id": "zErItaPJV0Kx"
      },
      "source": [
        "문제10. 문제 9번의 주사위의 눈이 6개 있는 변수를 만들고 if 문을 써서 \"주사위의 눈에 숫자 5가 있습니다. \" 라는 메세지가 출력되게 하시오!"
      ]
    },
    {
      "cell_type": "code",
      "metadata": {
        "colab": {
          "base_uri": "https://localhost:8080/"
        },
        "id": "-zOb9wBbWCN9",
        "outputId": "0ee81c64-c0fe-43aa-d4e3-5d5b02658642"
      },
      "source": [
        "dice = [ 1, 2, 3, 4, 5, 6 ]\n",
        "if 5 in dice:\n",
        "  print('주사위의 눈에 숫자 5가 있습니다.')"
      ],
      "execution_count": null,
      "outputs": [
        {
          "output_type": "stream",
          "text": [
            "주사위의 눈에 숫자 5가 있습니다.\n"
          ],
          "name": "stdout"
        }
      ]
    },
    {
      "cell_type": "markdown",
      "metadata": {
        "id": "KhBothj-kXEc"
      },
      "source": [
        ""
      ]
    },
    {
      "cell_type": "markdown",
      "metadata": {
        "id": "cwoR7I9zkWyh"
      },
      "source": [
        ""
      ]
    },
    {
      "cell_type": "markdown",
      "metadata": {
        "id": "JZGqQbgkWRVX"
      },
      "source": [
        "문제11. 위의 코드를 수정해서 숫자를 물어보게하고 숫자를 입력하면 위의 메세지가 출력되게하시오!"
      ]
    },
    {
      "cell_type": "code",
      "metadata": {
        "colab": {
          "base_uri": "https://localhost:8080/"
        },
        "id": "54SVmsI_WVqE",
        "outputId": "347f1606-58fe-42ef-d4f9-dab9eaca4da8"
      },
      "source": [
        "a = int(input('숫자를 입력하세요 ~'))\n",
        "\n",
        "dice = [ 1, 2, 3, 4, 5, 6 ]\n",
        "if a in dice:\n",
        "  print('주사위의 눈에 숫자', a, '가 있습니다.')"
      ],
      "execution_count": null,
      "outputs": [
        {
          "output_type": "stream",
          "text": [
            "숫자를 입력하세요 ~4\n",
            "주사위의 눈에 숫자 4 가 있습니다.\n"
          ],
          "name": "stdout"
        }
      ]
    },
    {
      "cell_type": "markdown",
      "metadata": {
        "id": "CKxF1FeXkXwM"
      },
      "source": [
        ""
      ]
    },
    {
      "cell_type": "markdown",
      "metadata": {
        "id": "mGm2U4WMkXei"
      },
      "source": [
        ""
      ]
    },
    {
      "cell_type": "markdown",
      "metadata": {
        "id": "V0xUQJU5WoGv"
      },
      "source": [
        "**■ 9. if문 개념 배우기 ① (if~else)**\n",
        "\n",
        "어떤 조건을 참과 거짓으로 판단할 때 if 문을 사용합니다.  \n",
        "참과 거짓을 구분하여 코드를 실행하면 if ~ else 를 사용합니다.  \n",
        "코드를 작성하다보면 조건에 따라 수행하는 일을 달리 해야하는 경우가 있습니다.  \n",
        "조건이 참인지 거짓인지 검사를 하고, 참인 경우에는 이 일을 하고 거짓인 경우에는 저 일을 해라 라는 식으로 처리를 할 수 있습니다.\n",
        "\n",
        "예제:\n",
        "  \n",
        "    if 조건:  \n",
        "      실행코드1  \n",
        "    else:  \n",
        "      실행코드2  \n",
        "  \n",
        "  \n",
        "\n",
        "예제:"
      ]
    },
    {
      "cell_type": "code",
      "metadata": {
        "colab": {
          "base_uri": "https://localhost:8080/"
        },
        "id": "3JZ8TwtRXJof",
        "outputId": "5b0ecaf0-fb14-49d1-8f08-eb68851a5314"
      },
      "source": [
        "a = int(input('숫자를 입력하세요 ~'))\n",
        "if a%2 ==0:   # % 는 나눈 나머지 값을 출력하는 연산자. / == 은 equal (같다) 연산자 입니다. / = 은 할당 연산자 입니다.\n",
        "  print('짝수 입니다')\n",
        "else:\n",
        "  print('홀수 입니다')"
      ],
      "execution_count": null,
      "outputs": [
        {
          "output_type": "stream",
          "text": [
            "숫자를 입력하세요 ~6\n",
            "짝수 입니다\n"
          ],
          "name": "stdout"
        }
      ]
    },
    {
      "cell_type": "markdown",
      "metadata": {
        "id": "6FZHE0zAkfG8"
      },
      "source": [
        ""
      ]
    },
    {
      "cell_type": "markdown",
      "metadata": {
        "id": "Cgd2w1mbke9r"
      },
      "source": [
        ""
      ]
    },
    {
      "cell_type": "markdown",
      "metadata": {
        "id": "enAvRtURXgJT"
      },
      "source": [
        "문제12. 주사위의 눈을 담은 dice 변수를 만들고 숫자를 물어보게해서 해당 숫자가 주사위의 눈중에 있으면 해당 숫자가 있습니다 라는 메세지가 출력되게하고 없으면 해당 숫자가 없습니다. 라는 메세지가 출력되게하시오!\n",
        "\n",
        "    숫자를 입력하세요 ~ 2\n",
        "    2가 주사위의 눈에 있습니다.\n",
        "    \n",
        "    숫자를 입력하세요 ~ 7\n",
        "    7가 주사위의 눈에 없습니다."
      ]
    },
    {
      "cell_type": "code",
      "metadata": {
        "colab": {
          "base_uri": "https://localhost:8080/"
        },
        "id": "y-L7YulUXxV1",
        "outputId": "49b8e693-8671-4d93-f1c9-95bde2c3ab70"
      },
      "source": [
        "a = int(input('숫자를 입력하세요 ~'))\n",
        "dice = [ 1, 2, 3, 4, 5, 6 ]\n",
        "if a in dice:\n",
        "  print( a, '가 주사위의 눈에 있습니다.')\n",
        "else:\n",
        "  print( a, '가 주사위의 눈에 없습니다.')"
      ],
      "execution_count": null,
      "outputs": [
        {
          "output_type": "stream",
          "text": [
            "숫자를 입력하세요 ~7\n",
            "7 가 주사위의 눈에 없습니다.\n"
          ],
          "name": "stdout"
        }
      ]
    },
    {
      "cell_type": "markdown",
      "metadata": {
        "id": "oTQUIzKPkjkW"
      },
      "source": [
        ""
      ]
    },
    {
      "cell_type": "markdown",
      "metadata": {
        "id": "UtypI_OQkjcq"
      },
      "source": [
        ""
      ]
    },
    {
      "cell_type": "markdown",
      "metadata": {
        "id": "3aTsIBQjYBvx"
      },
      "source": [
        "문제13. 숫자 두개를 아래와 같이 각각 물어보게하고 아래처럼 메세지가 출력되게하시오!\n",
        "\n",
        "    첫번째 숫자를 입력하세요 ~ 2  \n",
        "    두번째 숫자를 입력하세요 ~ 3\n",
        "    2는 3보다 작습니다.\n",
        "\n",
        "    첫번째 숫자를 입력하세요 ~ 3  \n",
        "    두번째 숫자를 입력하세요 ~ 2\n",
        "    3은 2보다 큽니다."
      ]
    },
    {
      "cell_type": "code",
      "metadata": {
        "colab": {
          "base_uri": "https://localhost:8080/"
        },
        "id": "pr9gOymYYF6m",
        "outputId": "8a1134d6-4eb8-4d25-9ffc-557c26c8fd4a"
      },
      "source": [
        "a = int(input('첫번째 숫자를 입력하세요 ~'))\n",
        "b = int(input('두번째 숫자를 입력하세요 ~'))\n",
        "\n",
        "if a < b:\n",
        "  print(a, '는', b, '보다 작습니다.')\n",
        "else:\n",
        "  print(a, '는', b, '보다 큽니다.')"
      ],
      "execution_count": null,
      "outputs": [
        {
          "output_type": "stream",
          "text": [
            "첫번째 숫자를 입력하세요 ~2\n",
            "두번째 숫자를 입력하세요 ~3\n",
            "2 는 3 보다 작습니다.\n"
          ],
          "name": "stdout"
        }
      ]
    },
    {
      "cell_type": "markdown",
      "metadata": {
        "id": "uDSAt3qikq1L"
      },
      "source": [
        ""
      ]
    },
    {
      "cell_type": "markdown",
      "metadata": {
        "id": "_QXzPZPjkqtK"
      },
      "source": [
        ""
      ]
    },
    {
      "cell_type": "markdown",
      "metadata": {
        "id": "zdTCIH4_Ynrl"
      },
      "source": [
        "**■ 10. if문 개념 배우기 ② (if~elif)**\n",
        "\n",
        "여러개의 조건을 순차적으로 체크하고 해당 조건이 참이면 특정 로직을 수행하고자 할 때 if ~ elif 문을 사용합니다.\n",
        "\n",
        "예제:  \n",
        "\n",
        "    if 조건1:  \n",
        "      실행코드1  \n",
        "    elif 조건2:  \n",
        "      실행코드2  \n",
        "    elif 조건3:  \n",
        "      실행코드3  \n",
        "      :  \n",
        "    else:    #  위의 조건1과 조건2가 아니라면  \n",
        "      실행코드4"
      ]
    },
    {
      "cell_type": "markdown",
      "metadata": {
        "id": "KuBUYypHkx-e"
      },
      "source": [
        ""
      ]
    },
    {
      "cell_type": "markdown",
      "metadata": {
        "id": "u5I60qUhkySM"
      },
      "source": [
        ""
      ]
    },
    {
      "cell_type": "markdown",
      "metadata": {
        "id": "PCEjfwXNZDT4"
      },
      "source": [
        "예제. 문제13번을 다시 수행하는데 같은 숫자가 2개가 들어오면 서로 같습니다. 라는 메세지가 출력되게하시오."
      ]
    },
    {
      "cell_type": "code",
      "metadata": {
        "colab": {
          "base_uri": "https://localhost:8080/"
        },
        "id": "qziIb6HAZIxS",
        "outputId": "66c9e0a8-3408-457c-b0da-fa07e474eb18"
      },
      "source": [
        "a = int(input('첫번째 숫자를 입력하세요 ~'))\n",
        "b = int(input('두번째 숫자를 입력하세요 ~'))\n",
        "\n",
        "if a < b:\n",
        "  print(a, '는', b, '보다 작습니다.')\n",
        "elif a > b:\n",
        "  print(a, '는', b, '보다 큽니다.')\n",
        "else:\n",
        "  print(a, '는', b, '와 같습니다.')"
      ],
      "execution_count": null,
      "outputs": [
        {
          "output_type": "stream",
          "text": [
            "첫번째 숫자를 입력하세요 ~5\n",
            "두번째 숫자를 입력하세요 ~5\n",
            "5 는 5 와 같습니다.\n"
          ],
          "name": "stdout"
        }
      ]
    },
    {
      "cell_type": "markdown",
      "metadata": {
        "id": "dm4PZ6BNkzcH"
      },
      "source": [
        ""
      ]
    },
    {
      "cell_type": "markdown",
      "metadata": {
        "id": "ZfpvobDwkzKr"
      },
      "source": [
        ""
      ]
    },
    {
      "cell_type": "markdown",
      "metadata": {
        "id": "2wUchXsKZTTk"
      },
      "source": [
        "**■ 11. for문 개념 배우기 ① (for)**\n",
        "\n",
        "특정 코드를 반복적으로 수행하기 위해서는 반복문을 사용해야 하는데 파이썬에서는 for 문이 반복문을 수행하기 위해 가장 많이 사용되는 문법입니다.\n",
        "\n",
        "예제:  \n",
        "\n",
        "    for 변수 in 범위:  \n",
        "      반복적으로 실행할 코드\n",
        "\n",
        " 1. 리스트 범위인 경우  \n",
        "\n",
        "        for i in [ 1, 2, 3 ]:  \n",
        "            print(i)\n",
        "\n",
        " 2. 튜플 범위인 경우  \n",
        "        for i in ( 1, 2, 3 ):  \n",
        "            print(i)\n",
        "\n",
        " 3. range() 범위인 경우  \n",
        "        for i in range(10):  \n",
        "            print(i)\n",
        "\n",
        " 4. 사전형 범위인 경우  \n",
        "        m = { 'i' : '나는', 'am' : '입니다', 'boy' : '소년' }  \n",
        "        for i in m:  \n",
        "            print(i)   # 키 값만 출력되고 있습니다.  \n",
        "  \n",
        " 결과:  \n",
        "        i  \n",
        "        am  \n",
        "        boy\n",
        "\n",
        " 5. 문자형 범위인 경우  \n",
        "        for i in 'i am a boy':\n",
        "            print(i)  \n",
        "\n",
        "  결과:  \n",
        "        i  \n",
        "\n",
        "        a  \n",
        "        m  \n",
        "\n",
        "        a  \n",
        "\n",
        "        b  \n",
        "        o  \n",
        "        y\n",
        "\n"
      ]
    },
    {
      "cell_type": "markdown",
      "metadata": {
        "id": "i-M29mGElQY7"
      },
      "source": [
        ""
      ]
    },
    {
      "cell_type": "markdown",
      "metadata": {
        "id": "ElOAGoWtlQzN"
      },
      "source": [
        ""
      ]
    },
    {
      "cell_type": "markdown",
      "metadata": {
        "id": "cgcJSheHazjY"
      },
      "source": [
        "**■ for 루프(loop) 문의 range 사용법 정리**\n"
      ]
    },
    {
      "cell_type": "code",
      "metadata": {
        "colab": {
          "base_uri": "https://localhost:8080/"
        },
        "id": "tzvGjFrblU9A",
        "outputId": "f22bbacc-1c0d-4d5d-a419-5bc367e8a18b"
      },
      "source": [
        "for i in range(6):  \r\n",
        "  print(i)   # 0 부터 5 까지 출력한다. ( 전 숫자까지만 출력 )\r\n",
        "print('----')\r\n",
        "\r\n",
        "for i in range(1,6):  \r\n",
        "  print(i)   # 1 부터 5 까지 출력된다.\r\n",
        "print('----')\r\n",
        "\r\n",
        "for i in range(1, 6, 2):  \r\n",
        "  print(i)   # 1, 3, 5 를 출력한다.\r\n",
        "print('----')\r\n",
        "\r\n",
        "for i in range(6, 1, -1):  \r\n",
        "  print(i)   # 6부터 1씩 차감해서 2 까지 출력한다."
      ],
      "execution_count": 4,
      "outputs": [
        {
          "output_type": "stream",
          "text": [
            "0\n",
            "1\n",
            "2\n",
            "3\n",
            "4\n",
            "5\n",
            "----\n",
            "1\n",
            "2\n",
            "3\n",
            "4\n",
            "5\n",
            "----\n",
            "1\n",
            "3\n",
            "5\n",
            "----\n",
            "6\n",
            "5\n",
            "4\n",
            "3\n",
            "2\n"
          ],
          "name": "stdout"
        }
      ]
    },
    {
      "cell_type": "markdown",
      "metadata": {
        "id": "ScoNwGzmlUu7"
      },
      "source": [
        ""
      ]
    },
    {
      "cell_type": "markdown",
      "metadata": {
        "id": "VHiyXRg4lURv"
      },
      "source": [
        ""
      ]
    },
    {
      "cell_type": "markdown",
      "metadata": {
        "id": "5iyVHfeobcVN"
      },
      "source": [
        "문제14. ★ 을 5개 출력하시오!  \n",
        "\n",
        "    ★★★★★"
      ]
    },
    {
      "cell_type": "code",
      "metadata": {
        "colab": {
          "base_uri": "https://localhost:8080/"
        },
        "id": "7cA4S9TnbYZk",
        "outputId": "9db862d2-7512-47c6-efcd-777e12116781"
      },
      "source": [
        "print('★' * 5)"
      ],
      "execution_count": null,
      "outputs": [
        {
          "output_type": "stream",
          "text": [
            "★★★★★\n"
          ],
          "name": "stdout"
        }
      ]
    },
    {
      "cell_type": "markdown",
      "metadata": {
        "id": "6ER0Ye51lkNf"
      },
      "source": [
        ""
      ]
    },
    {
      "cell_type": "markdown",
      "metadata": {
        "id": "j8Go3NowlkFC"
      },
      "source": [
        ""
      ]
    },
    {
      "cell_type": "markdown",
      "metadata": {
        "id": "bQqQuFCobja6"
      },
      "source": [
        "문제15. 아래와 같은 결과가 출력되는 파이썬 코드를 작성하시오!\n",
        "\n",
        "    숫자를 입력하세요 ~ 5\n",
        "\n",
        "    ★  \n",
        "    ★★  \n",
        "    ★★★  \n",
        "    ★★★★  \n",
        "    ★★★★★"
      ]
    },
    {
      "cell_type": "code",
      "metadata": {
        "colab": {
          "base_uri": "https://localhost:8080/"
        },
        "id": "-N9eHWUjbscS",
        "outputId": "d66dacad-1953-4f75-df42-8612515280b0"
      },
      "source": [
        "a = int( input('숫자를 입력하세요 ~') )\n",
        "\n",
        "for i in range(1,a+1):\n",
        "  print('★' * i)"
      ],
      "execution_count": null,
      "outputs": [
        {
          "output_type": "stream",
          "text": [
            "숫자를 입력하세요 ~5\n",
            "★\n",
            "★★\n",
            "★★★\n",
            "★★★★\n",
            "★★★★★\n"
          ],
          "name": "stdout"
        }
      ]
    },
    {
      "cell_type": "markdown",
      "metadata": {
        "id": "wFFyO1EmloHt"
      },
      "source": [
        ""
      ]
    },
    {
      "cell_type": "markdown",
      "metadata": {
        "id": "6BnYhjj3ln-M"
      },
      "source": [
        ""
      ]
    },
    {
      "cell_type": "markdown",
      "metadata": {
        "id": "q0H3Q_-Vb-Ni"
      },
      "source": [
        " 문제16. 주사위를 10번을 던져서 출력되는 눈을 확인하시오!"
      ]
    },
    {
      "cell_type": "code",
      "metadata": {
        "colab": {
          "base_uri": "https://localhost:8080/"
        },
        "id": "ZZ0K2lYCcDS_",
        "outputId": "ad3184f5-9edf-4dec-c114-50dca8892703"
      },
      "source": [
        "import random   # random 모듈의 코드를 지금 현재 코드창에서 사용하겠다.\n",
        "\n",
        "dice = [ 1, 2, 3, 4, 5, 6 ]\n",
        "\n",
        "for i in range(1, 11):\n",
        "  print(random.choice(dice))    # dice 라는 리스트 안에서 랜덤으로 값을 뽑겠다."
      ],
      "execution_count": null,
      "outputs": [
        {
          "output_type": "stream",
          "text": [
            "1\n",
            "1\n",
            "6\n",
            "6\n",
            "1\n",
            "4\n",
            "5\n",
            "6\n",
            "6\n",
            "6\n"
          ],
          "name": "stdout"
        }
      ]
    },
    {
      "cell_type": "markdown",
      "metadata": {
        "id": "elbEjGijlpcQ"
      },
      "source": [
        ""
      ]
    },
    {
      "cell_type": "markdown",
      "metadata": {
        "id": "5hZrI5KhlpTW"
      },
      "source": [
        ""
      ]
    },
    {
      "cell_type": "markdown",
      "metadata": {
        "id": "BydrVymhcYVv"
      },
      "source": [
        "문제17. 동전을 10번 던지세요 ~"
      ]
    },
    {
      "cell_type": "code",
      "metadata": {
        "colab": {
          "base_uri": "https://localhost:8080/"
        },
        "id": "3PidkAyHcbBW",
        "outputId": "81dc699d-5f68-4821-810d-45653f5c93e7"
      },
      "source": [
        "import random\n",
        "\n",
        "coin = ['앞면', '뒷면']\n",
        "\n",
        "for i in range(1, 11):\n",
        "  print(random.choice(coin))"
      ],
      "execution_count": null,
      "outputs": [
        {
          "output_type": "stream",
          "text": [
            "앞면\n",
            "앞면\n",
            "뒷면\n",
            "앞면\n",
            "앞면\n",
            "앞면\n",
            "뒷면\n",
            "뒷면\n",
            "앞면\n",
            "뒷면\n"
          ],
          "name": "stdout"
        }
      ]
    },
    {
      "cell_type": "markdown",
      "metadata": {
        "id": "DYcIgcsZlqMV"
      },
      "source": [
        ""
      ]
    },
    {
      "cell_type": "markdown",
      "metadata": {
        "id": "FERrNC_nlqFj"
      },
      "source": [
        ""
      ]
    },
    {
      "cell_type": "markdown",
      "metadata": {
        "id": "v2wIDGI1cjYu"
      },
      "source": [
        "문제18. 동전을 10번 던졌을 때 앞면이 나오는 횟수가 어떻게 되는가?"
      ]
    },
    {
      "cell_type": "code",
      "metadata": {
        "colab": {
          "base_uri": "https://localhost:8080/"
        },
        "id": "9xJvmWemc6Xn",
        "outputId": "365d4bf4-93e3-41d0-ed74-db3850c675f5"
      },
      "source": [
        "import random\n",
        "\n",
        "coin = ['앞면', '뒷면']\n",
        "cnt = 0    # cnt 라는 변수에 0을 할당한다.\n",
        "\n",
        "for i in range(1, 11):            # 1부터 10까지 루프문을 10번 실행한다.\n",
        "  result = random.choice(coin)   # 동전 던진 결과를 result 변수에 할당한다.\n",
        "  if result == '앞면':\n",
        "    cnt = cnt + 1                 # 할당 연산자 오른쪽부터 실행하고 실행한 결과를 왼쪽 변수에 할당해 준다.\n",
        "  \n",
        "print(cnt)     # for 문의 실행문이 아닌 for 문과 위치를 맞춰서 같은 라인에 print(cnt)를 쓰면 for문이 다 완료되면 print(cnt) 가 수행됩니다."
      ],
      "execution_count": null,
      "outputs": [
        {
          "output_type": "stream",
          "text": [
            "5\n"
          ],
          "name": "stdout"
        }
      ]
    },
    {
      "cell_type": "markdown",
      "metadata": {
        "id": "wWp3ERpUlrXG"
      },
      "source": [
        ""
      ]
    },
    {
      "cell_type": "markdown",
      "metadata": {
        "id": "4hUwZLZalqvx"
      },
      "source": [
        ""
      ]
    },
    {
      "cell_type": "markdown",
      "metadata": {
        "id": "RIpxrtUvdeKP"
      },
      "source": [
        "문제19. 주사위를 100번 던져서 주사위의 눈이 3이 나오는 횟수를 출력하시오"
      ]
    },
    {
      "cell_type": "code",
      "metadata": {
        "colab": {
          "base_uri": "https://localhost:8080/"
        },
        "id": "0bwZ7yfudhr3",
        "outputId": "adcf3acb-912c-4fc6-e4d8-29d0e073c13e"
      },
      "source": [
        "import random\n",
        "\n",
        "dice = [ 1, 2, 3, 4, 5, 6 ]\n",
        "cnt = 0\n",
        "\n",
        "for i in range(1, 101):\n",
        "  result = random.choice(dice)\n",
        "  if result == 3:\n",
        "    cnt = cnt + 1\n",
        "  \n",
        "print(cnt)  "
      ],
      "execution_count": null,
      "outputs": [
        {
          "output_type": "stream",
          "text": [
            "23\n"
          ],
          "name": "stdout"
        }
      ]
    },
    {
      "cell_type": "markdown",
      "metadata": {
        "id": "aDmMn4jClspz"
      },
      "source": [
        ""
      ]
    },
    {
      "cell_type": "markdown",
      "metadata": {
        "id": "A0YnhhI1lsgi"
      },
      "source": [
        ""
      ]
    },
    {
      "cell_type": "markdown",
      "metadata": {
        "id": "arL9YUiOd0s1"
      },
      "source": [
        "문제20. 주사위를 1000 번 던지고 주사위의 눈이 5가 나올 확률을 구하시오 !"
      ]
    },
    {
      "cell_type": "code",
      "metadata": {
        "colab": {
          "base_uri": "https://localhost:8080/"
        },
        "id": "71xrb7H8d5Fn",
        "outputId": "5431b98b-a9d6-4720-8f13-89309f4f6d26"
      },
      "source": [
        "import random\n",
        "\n",
        "dice = [ 1, 2, 3, 4, 5, 6 ]\n",
        "cnt = 0\n",
        "\n",
        "for i in range(1, 1001):\n",
        "  result = random.choice(dice)\n",
        "  if result == 5:\n",
        "    cnt = cnt + 1\n",
        "  \n",
        "print(cnt/1000)"
      ],
      "execution_count": null,
      "outputs": [
        {
          "output_type": "stream",
          "text": [
            "0.152\n"
          ],
          "name": "stdout"
        }
      ]
    },
    {
      "cell_type": "markdown",
      "metadata": {
        "id": "lcbujrSEltcj"
      },
      "source": [
        ""
      ]
    },
    {
      "cell_type": "markdown",
      "metadata": {
        "id": "4de3JwBEltHx"
      },
      "source": [
        ""
      ]
    },
    {
      "cell_type": "markdown",
      "metadata": {
        "id": "hCENjOs1d-6_"
      },
      "source": [
        "문제21. 동전을 10000 번 던져서 앞면이 나올 확률을 출력하시오 !"
      ]
    },
    {
      "cell_type": "code",
      "metadata": {
        "colab": {
          "base_uri": "https://localhost:8080/"
        },
        "id": "TCOtRqiweCX3",
        "outputId": "0d93441c-2025-44a1-d596-13471c0a09ea"
      },
      "source": [
        "import random\n",
        "\n",
        "coin = ['앞면', '뒷면']\n",
        "cnt = 0\n",
        "\n",
        "for i in range(1, 10001):\n",
        "  result = random.choice(coin)\n",
        "  if result == '앞면':\n",
        "    cnt = cnt + 1\n",
        "  \n",
        "print(cnt/10000)"
      ],
      "execution_count": null,
      "outputs": [
        {
          "output_type": "stream",
          "text": [
            "0.5038\n"
          ],
          "name": "stdout"
        }
      ]
    },
    {
      "cell_type": "markdown",
      "metadata": {
        "id": "q-4byFs4luUG"
      },
      "source": [
        ""
      ]
    },
    {
      "cell_type": "markdown",
      "metadata": {
        "id": "-Sgp0tFRluBT"
      },
      "source": [
        ""
      ]
    },
    {
      "cell_type": "markdown",
      "metadata": {
        "id": "jBbesV82eP6X"
      },
      "source": [
        "문제22. 주사위 하나와 동전 한개를 동시에 던져서 주사위의 눈은 5가 나오고 동전은 앞면이 나올 확률은 어떻게 되는가?"
      ]
    },
    {
      "cell_type": "code",
      "metadata": {
        "colab": {
          "base_uri": "https://localhost:8080/"
        },
        "id": "1_TQI2JOeWfF",
        "outputId": "df973fd7-3e11-4e65-dadc-aa6d0b3c1355"
      },
      "source": [
        "import random\n",
        "\n",
        "dice = [ 1, 2, 3, 4, 5, 6 ]\n",
        "coin = ['앞면', '뒷면']\n",
        "cnt = 0\n",
        "\n",
        "for i in range(1, 100001):\n",
        "  result1 = random.choice(dice)\n",
        "  result2 = random.choice(coin)\n",
        "  if result1 == 5 and result2 == '앞면':\n",
        "    cnt = cnt + 1\n",
        "  \n",
        "print(cnt/100000)"
      ],
      "execution_count": null,
      "outputs": [
        {
          "output_type": "stream",
          "text": [
            "0.08279\n"
          ],
          "name": "stdout"
        }
      ]
    }
  ]
}